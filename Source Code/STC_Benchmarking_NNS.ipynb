{
  "nbformat": 4,
  "nbformat_minor": 0,
  "metadata": {
    "colab": {
      "name": "STC_Benchmarking_NNS.ipynb",
      "provenance": [],
      "collapsed_sections": [
        "Epvv4pCVh0OR",
        "lkPnX0PKhe62"
      ],
      "toc_visible": true
    },
    "kernelspec": {
      "name": "python3",
      "display_name": "Python 3"
    },
    "accelerator": "GPU"
  },
  "cells": [
    {
      "cell_type": "markdown",
      "metadata": {
        "id": "Epvv4pCVh0OR",
        "colab_type": "text"
      },
      "source": [
        "# Installing the necessary packages and dependencies"
      ]
    },
    {
      "cell_type": "code",
      "metadata": {
        "id": "8g-BJ35s0kt-",
        "colab_type": "code",
        "outputId": "d01a56fa-49c5-485a-d985-faf29a317cab",
        "colab": {
          "base_uri": "https://localhost:8080/",
          "height": 1000
        }
      },
      "source": [
        "# Installing the dependencies and nns libraries\n",
        "\n",
        "!pip install 2to3\n",
        "\n",
        "!pip install annoy\n",
        "!sudo apt-get install libomp-dev\n",
        "\n",
        "!pip install nearpy\n",
        "\n",
        "!pip install ngt\n",
        "\n",
        "!git clone https://github.com/primetang/pyflann.git\n",
        "!2to3 -w pyflann\n",
        "%cd pyflann\n",
        "!python setup.py install\n",
        "%cd ../\n",
        "\n",
        "!pip install git+https://github.com/vioshyvo/mrpt/\n",
        "\n",
        "!pip install pynndescent\n",
        "\n",
        "!pip install datasketch\n",
        "\n",
        "!pip install faiss\n",
        "\n",
        "!pip install rpforest\n",
        "\n",
        "!pip install hnswlib\n",
        "\n",
        "!pip install nmslib\n",
        "\n",
        "!pip install n2\n",
        "\n",
        "!git clone https://github.com/ryanrhymes/panns\n",
        "!2to3 -w panns\n",
        "%cd panns\n",
        "!python setup.py install\n",
        "%cd ../\n",
        "\n",
        "!git clone https://github.com/aaalgo/kgraph\n",
        "!2to3 -w kgraph\n",
        "%cd kgraph\n",
        "!python setup.py install\n",
        "%cd ../\n",
        "\n",
        "!git clone https://github.com/ipsarros/DolphinnPy\n",
        "!2to3 -w DolphinnPy\n",
        "\n",
        "!pip install FALCONN\n",
        "\n",
        "!pip install nanopq"
      ],
      "execution_count": 0,
      "outputs": [
        {
          "output_type": "stream",
          "text": [
            "Collecting 2to3\n",
            "  Downloading https://files.pythonhosted.org/packages/15/31/e44eeb0bc18c5cb2df7c1914e00241da329c88ee4cd0d7139e716d4519c6/2to3-1.0-py3-none-any.whl\n",
            "Installing collected packages: 2to3\n",
            "Successfully installed 2to3-1.0\n",
            "Collecting annoy\n",
            "\u001b[?25l  Downloading https://files.pythonhosted.org/packages/00/15/5a9db225ebda93a235aebd5e42bbf83ab7035e7e4783c6cb528c635c9afb/annoy-1.16.3.tar.gz (644kB)\n",
            "\u001b[K     |████████████████████████████████| 645kB 2.7MB/s \n",
            "\u001b[?25hBuilding wheels for collected packages: annoy\n",
            "  Building wheel for annoy (setup.py) ... \u001b[?25l\u001b[?25hdone\n",
            "  Created wheel for annoy: filename=annoy-1.16.3-cp36-cp36m-linux_x86_64.whl size=297325 sha256=6044a0c88e387feac2e7e903ed320dcab3c768f739286fe6fff62dde9106ab67\n",
            "  Stored in directory: /root/.cache/pip/wheels/f3/01/54/6ef760fe9f9fc6ba8c19cebbe6358212b5f3b5b0195c0b813f\n",
            "Successfully built annoy\n",
            "Installing collected packages: annoy\n",
            "Successfully installed annoy-1.16.3\n",
            "Reading package lists... Done\n",
            "Building dependency tree       \n",
            "Reading state information... Done\n",
            "The following additional packages will be installed:\n",
            "  libomp5\n",
            "Suggested packages:\n",
            "  libomp-doc\n",
            "The following NEW packages will be installed:\n",
            "  libomp-dev libomp5\n",
            "0 upgraded, 2 newly installed, 0 to remove and 25 not upgraded.\n",
            "Need to get 239 kB of archives.\n",
            "After this operation, 804 kB of additional disk space will be used.\n",
            "Get:1 http://archive.ubuntu.com/ubuntu bionic/universe amd64 libomp5 amd64 5.0.1-1 [234 kB]\n",
            "Get:2 http://archive.ubuntu.com/ubuntu bionic/universe amd64 libomp-dev amd64 5.0.1-1 [5,088 B]\n",
            "Fetched 239 kB in 2s (113 kB/s)\n",
            "debconf: unable to initialize frontend: Dialog\n",
            "debconf: (No usable dialog-like program is installed, so the dialog based frontend cannot be used. at /usr/share/perl5/Debconf/FrontEnd/Dialog.pm line 76, <> line 2.)\n",
            "debconf: falling back to frontend: Readline\n",
            "debconf: unable to initialize frontend: Readline\n",
            "debconf: (This frontend requires a controlling tty.)\n",
            "debconf: falling back to frontend: Teletype\n",
            "dpkg-preconfigure: unable to re-open stdin: \n",
            "Selecting previously unselected package libomp5:amd64.\n",
            "(Reading database ... 144568 files and directories currently installed.)\n",
            "Preparing to unpack .../libomp5_5.0.1-1_amd64.deb ...\n",
            "Unpacking libomp5:amd64 (5.0.1-1) ...\n",
            "Selecting previously unselected package libomp-dev.\n",
            "Preparing to unpack .../libomp-dev_5.0.1-1_amd64.deb ...\n",
            "Unpacking libomp-dev (5.0.1-1) ...\n",
            "Setting up libomp5:amd64 (5.0.1-1) ...\n",
            "Setting up libomp-dev (5.0.1-1) ...\n",
            "Processing triggers for libc-bin (2.27-3ubuntu1) ...\n",
            "/sbin/ldconfig.real: /usr/local/lib/python3.6/dist-packages/ideep4py/lib/libmkldnn.so.0 is not a symbolic link\n",
            "\n",
            "Collecting nearpy\n",
            "\u001b[?25l  Downloading https://files.pythonhosted.org/packages/cc/74/4680e44c04c23ca52ab458746ab725a6e3e7fa6f6c18c4a578847a725cbd/NearPy-1.0.0-py2.py3-none-any.whl (64kB)\n",
            "\u001b[K     |████████████████████████████████| 71kB 2.0MB/s \n",
            "\u001b[?25hRequirement already satisfied: future in /usr/local/lib/python3.6/dist-packages (from nearpy) (0.16.0)\n",
            "Requirement already satisfied: numpy in /usr/local/lib/python3.6/dist-packages (from nearpy) (1.18.2)\n",
            "Requirement already satisfied: scipy in /usr/local/lib/python3.6/dist-packages (from nearpy) (1.4.1)\n",
            "Collecting bitarray\n",
            "\u001b[?25l  Downloading https://files.pythonhosted.org/packages/3d/78/99528059e42f199910df89bd0ad8d9238f41d0499b506e0b3174340075ea/bitarray-1.2.1.tar.gz (48kB)\n",
            "\u001b[K     |████████████████████████████████| 51kB 6.1MB/s \n",
            "\u001b[?25hBuilding wheels for collected packages: bitarray\n",
            "  Building wheel for bitarray (setup.py) ... \u001b[?25l\u001b[?25hdone\n",
            "  Created wheel for bitarray: filename=bitarray-1.2.1-cp36-cp36m-linux_x86_64.whl size=105043 sha256=337b701f8e680cdda2409ba22a34e2dec83618cda85210f92b644338c221c0be\n",
            "  Stored in directory: /root/.cache/pip/wheels/8e/4f/42/90d76aca9f4a7420c8c82fe15ed949777ab3fafe9fc1d705b3\n",
            "Successfully built bitarray\n",
            "Installing collected packages: bitarray, nearpy\n",
            "Successfully installed bitarray-1.2.1 nearpy-1.0.0\n",
            "Collecting ngt\n",
            "\u001b[?25l  Downloading https://files.pythonhosted.org/packages/a9/fc/2ea4b3589ce635bed120fbb37b739df69eabea6b9f1c4d691517437e1ee7/ngt-1.10.0-cp36-cp36m-manylinux1_x86_64.whl (2.0MB)\n",
            "\u001b[K     |████████████████████████████████| 2.0MB 2.8MB/s \n",
            "\u001b[?25hCollecting pybind11\n",
            "\u001b[?25l  Downloading https://files.pythonhosted.org/packages/89/e3/d576f6f02bc75bacbc3d42494e8f1d063c95617d86648dba243c2cb3963e/pybind11-2.5.0-py2.py3-none-any.whl (296kB)\n",
            "\u001b[K     |████████████████████████████████| 296kB 43.5MB/s \n",
            "\u001b[?25hRequirement already satisfied: numpy in /usr/local/lib/python3.6/dist-packages (from ngt) (1.18.2)\n",
            "Installing collected packages: pybind11, ngt\n",
            "Successfully installed ngt-1.10.0 pybind11-2.5.0\n",
            "Cloning into 'pyflann'...\n",
            "remote: Enumerating objects: 3, done.\u001b[K\n",
            "remote: Counting objects: 100% (3/3), done.\u001b[K\n",
            "remote: Compressing objects: 100% (3/3), done.\u001b[K\n",
            "remote: Total 123 (delta 0), reused 0 (delta 0), pack-reused 120\u001b[K\n",
            "Receiving objects: 100% (123/123), 8.94 MiB | 5.34 MiB/s, done.\n",
            "Resolving deltas: 100% (49/49), done.\n",
            "RefactoringTool: Skipping optional fixer: buffer\n",
            "RefactoringTool: Skipping optional fixer: idioms\n",
            "RefactoringTool: Skipping optional fixer: set_literal\n",
            "RefactoringTool: Skipping optional fixer: ws_comma\n",
            "RefactoringTool: No changes to pyflann/setup.py\n",
            "RefactoringTool: Refactored pyflann/example/test_pyflann.py\n",
            "--- pyflann/example/test_pyflann.py\t(original)\n",
            "+++ pyflann/example/test_pyflann.py\t(refactored)\n",
            "@@ -13,13 +13,13 @@\n",
            " flann = FLANN()\n",
            " result, dists = flann.nn(\n",
            "     dataset, testset, 2, algorithm=\"kmeans\", branching=32, iterations=7, checks=16)\n",
            "-print result\n",
            "-print dists\n",
            "+print(result)\n",
            "+print(dists)\n",
            " \n",
            " dataset = np.random.rand(10000, 128)\n",
            " testset = np.random.rand(1000, 128)\n",
            " flann = FLANN()\n",
            " result, dists = flann.nn(\n",
            "     dataset, testset, 5, algorithm=\"kmeans\", branching=32, iterations=7, checks=16)\n",
            "-print result\n",
            "-print dists\n",
            "+print(result)\n",
            "+print(dists)\n",
            "RefactoringTool: Refactored pyflann/pyflann/__init__.py\n",
            "--- pyflann/pyflann/__init__.py\t(original)\n",
            "+++ pyflann/pyflann/__init__.py\t(refactored)\n",
            "@@ -24,9 +24,9 @@\n",
            " #(INCLUDING NEGLIGENCE OR OTHERWISE) ARISING IN ANY WAY OUT OF THE USE OF\n",
            " #THIS SOFTWARE, EVEN IF ADVISED OF THE POSSIBILITY OF SUCH DAMAGE.\n",
            " \n",
            "-from index import *\n",
            "-from io.dataset import load, save\n",
            "+from .index import *\n",
            "+from .io.dataset import load, save\n",
            " try:\n",
            "-    from io.hdf5_dataset import load_range\n",
            "+    from .io.hdf5_dataset import load_range\n",
            " except:\n",
            "     pass\n",
            "RefactoringTool: Refactored pyflann/pyflann/index.py\n",
            "--- pyflann/pyflann/index.py\t(original)\n",
            "+++ pyflann/pyflann/index.py\t(refactored)\n",
            "@@ -24,8 +24,8 @@\n",
            " #(INCLUDING NEGLIGENCE OR OTHERWISE) ARISING IN ANY WAY OUT OF THE USE OF\n",
            " #THIS SOFTWARE, EVEN IF ADVISED OF THE POSSIBILITY OF SUCH DAMAGE.\n",
            " \n",
            "-from bindings.flann_ctypes import *\n",
            "-from io.dataset import *\n",
            "+from .bindings.flann_ctypes import *\n",
            "+from .io.dataset import *\n",
            " import numpy.random as _rn\n",
            " \n",
            " \n",
            "RefactoringTool: Refactored pyflann/pyflann/bindings/__init__.py\n",
            "--- pyflann/pyflann/bindings/__init__.py\t(original)\n",
            "+++ pyflann/pyflann/bindings/__init__.py\t(refactored)\n",
            "@@ -27,4 +27,4 @@\n",
            " #from pyflann import *\n",
            " #from pyflann_parameters import parameter_list, algorithm_names\n",
            " #from pyflann_parameters import centers_init_names, log_level_names\n",
            "-from flann_ctypes import *\n",
            "+from .flann_ctypes import *\n",
            "RefactoringTool: Refactored pyflann/pyflann/bindings/flann_ctypes.py\n",
            "--- pyflann/pyflann/bindings/flann_ctypes.py\t(original)\n",
            "+++ pyflann/pyflann/bindings/flann_ctypes.py\t(refactored)\n",
            "@@ -50,7 +50,7 @@\n",
            "         self.update(self._defaults_)\n",
            " \n",
            "     def update(self, dict):\n",
            "-        for k, v in dict.iteritems():\n",
            "+        for k, v in dict.items():\n",
            "             if k in self.__field_names:\n",
            "                 setattr(self, k, self.__translate(k, v))\n",
            " \n",
            "@@ -75,7 +75,7 @@\n",
            " \n",
            "     def __translate_back(self, k, v):\n",
            "         if k in self._translation_:\n",
            "-            for tk, tv in self._translation_[k].iteritems():\n",
            "+            for tk, tv in self._translation_[k].items():\n",
            "                 if tv == v:\n",
            "                     return tk\n",
            "         return v\n",
            "@@ -148,7 +148,7 @@\n",
            "             try:\n",
            "                 flannlib = cdll[os.path.join(root_dir, libdir, libname)]\n",
            "                 return flannlib\n",
            "-            except Exception, e:\n",
            "+            except Exception as e:\n",
            "                 pass\n",
            "         tmp = os.path.dirname(root_dir)\n",
            "         if tmp == root_dir:\n",
            "@@ -198,7 +198,7 @@\n",
            " \n",
            " def define_functions(str):\n",
            "     for type in type_mappings:\n",
            "-        exec str % {'C': type[0], 'numpy': type[1]}\n",
            "+        exec(str % {'C': type[0], 'numpy': type[1]})\n",
            " \n",
            " flann.build_index = {}\n",
            " define_functions(r\"\"\"\n",
            "RefactoringTool: Refactored pyflann/pyflann/io/__init__.py\n",
            "--- pyflann/pyflann/io/__init__.py\t(original)\n",
            "+++ pyflann/pyflann/io/__init__.py\t(refactored)\n",
            "@@ -24,4 +24,4 @@\n",
            " #(INCLUDING NEGLIGENCE OR OTHERWISE) ARISING IN ANY WAY OUT OF THE USE OF\n",
            " #THIS SOFTWARE, EVEN IF ADVISED OF THE POSSIBILITY OF SUCH DAMAGE.\n",
            " \n",
            "-from dataset import *\n",
            "+from .dataset import *\n",
            "RefactoringTool: Refactored pyflann/pyflann/io/binary_dataset.py\n",
            "--- pyflann/pyflann/io/binary_dataset.py\t(original)\n",
            "+++ pyflann/pyflann/io/binary_dataset.py\t(refactored)\n",
            "@@ -24,7 +24,7 @@\n",
            " #(INCLUDING NEGLIGENCE OR OTHERWISE) ARISING IN ANY WAY OUT OF THE USE OF\n",
            " #THIS SOFTWARE, EVEN IF ADVISED OF THE POSSIBILITY OF SUCH DAMAGE.\n",
            " \n",
            "-from __future__ import with_statement\n",
            "+\n",
            " \n",
            " from pyflann.exceptions import FLANNException\n",
            " import numpy\n",
            "RefactoringTool: Refactored pyflann/pyflann/io/dat_dataset.py\n",
            "--- pyflann/pyflann/io/dat_dataset.py\t(original)\n",
            "+++ pyflann/pyflann/io/dat_dataset.py\t(refactored)\n",
            "@@ -24,7 +24,7 @@\n",
            " #(INCLUDING NEGLIGENCE OR OTHERWISE) ARISING IN ANY WAY OUT OF THE USE OF\n",
            " #THIS SOFTWARE, EVEN IF ADVISED OF THE POSSIBILITY OF SUCH DAMAGE.\n",
            " \n",
            "-from __future__ import with_statement\n",
            "+\n",
            " \n",
            " from pyflann.exceptions import FLANNException\n",
            " import numpy\n",
            "RefactoringTool: Refactored pyflann/pyflann/io/dataset.py\n",
            "--- pyflann/pyflann/io/dataset.py\t(original)\n",
            "+++ pyflann/pyflann/io/dataset.py\t(refactored)\n",
            "@@ -24,13 +24,13 @@\n",
            " #(INCLUDING NEGLIGENCE OR OTHERWISE) ARISING IN ANY WAY OUT OF THE USE OF\n",
            " #THIS SOFTWARE, EVEN IF ADVISED OF THE POSSIBILITY OF SUCH DAMAGE.\n",
            " \n",
            "-from __future__ import with_statement\n",
            "+\n",
            " \n",
            " from pyflann.exceptions import FLANNException\n",
            "-import binary_dataset\n",
            "-import dat_dataset\n",
            "-import npy_dataset\n",
            "-import hdf5_dataset\n",
            "+from . import binary_dataset\n",
            "+from . import dat_dataset\n",
            "+from . import npy_dataset\n",
            "+from . import hdf5_dataset\n",
            " \n",
            " import os.path\n",
            " from numpy import float32\n",
            "@@ -45,7 +45,7 @@\n",
            " \n",
            " def load(filename, rows = -1, cols = -1, dtype = float32, **kwargs):\n",
            "     \n",
            "-    for format in dataset_formats.values():\n",
            "+    for format in list(dataset_formats.values()):\n",
            "         if format.check(filename):\n",
            "             return format.load(filename, rows, cols, dtype, **kwargs)\n",
            "     raise FLANNException(\"Error: Unknown dataset format\")\n",
            "@@ -58,5 +58,5 @@\n",
            "             format = extension[1:]\n",
            "         handler = dataset_formats[format]\n",
            "         handler.save(dataset, filename, **kwargs)\n",
            "-    except Exception,e:\n",
            "+    except Exception as e:\n",
            "         raise FLANNException(e)\n",
            "RefactoringTool: Refactored pyflann/pyflann/io/hdf5_dataset.py\n",
            "--- pyflann/pyflann/io/hdf5_dataset.py\t(original)\n",
            "+++ pyflann/pyflann/io/hdf5_dataset.py\t(refactored)\n",
            "@@ -24,14 +24,14 @@\n",
            " #(INCLUDING NEGLIGENCE OR OTHERWISE) ARISING IN ANY WAY OUT OF THE USE OF\n",
            " #THIS SOFTWARE, EVEN IF ADVISED OF THE POSSIBILITY OF SUCH DAMAGE.\n",
            " \n",
            "-from __future__ import with_statement\n",
            "+\n",
            " \n",
            " from pyflann.exceptions import FLANNException\n",
            " import numpy\n",
            " have_h5py = True\n",
            " try:\n",
            "     import h5py\n",
            "-except Exception,e:\n",
            "+except Exception as e:\n",
            "     have_h5py = False\n",
            " \n",
            " if not have_h5py:\n",
            "@@ -64,7 +64,7 @@\n",
            "             h5file = h5py.File(filename)\n",
            "             h5file.create_dataset(dataset_name, data=dataset)\n",
            "             h5file.close()\n",
            "-        except Exception,e:\n",
            "+        except Exception as e:\n",
            "             h5file.close()\n",
            "             raise FLANNException(e)\n",
            " \n",
            "@@ -77,12 +77,12 @@\n",
            "             else:\n",
            "                 dataset_name = 'dataset'\n",
            "             \n",
            "-            for node in h5file.keys():\n",
            "+            for node in list(h5file.keys()):\n",
            "                 if node == dataset_name:\n",
            "                     data = numpy.array(h5file[node])\n",
            "             h5file.close()\n",
            "             return data\n",
            "-        except Exception,e:\n",
            "+        except Exception as e:\n",
            "             h5file.close()\n",
            "             raise FLANNException(e)\n",
            "             \n",
            "RefactoringTool: Refactored pyflann/pyflann/io/npy_dataset.py\n",
            "--- pyflann/pyflann/io/npy_dataset.py\t(original)\n",
            "+++ pyflann/pyflann/io/npy_dataset.py\t(refactored)\n",
            "@@ -24,7 +24,7 @@\n",
            " #(INCLUDING NEGLIGENCE OR OTHERWISE) ARISING IN ANY WAY OUT OF THE USE OF\n",
            " #THIS SOFTWARE, EVEN IF ADVISED OF THE POSSIBILITY OF SUCH DAMAGE.\n",
            " \n",
            "-from __future__ import with_statement\n",
            "+\n",
            " \n",
            " from pyflann.exceptions import FLANNException\n",
            " import numpy\n",
            "RefactoringTool: Refactored pyflann/pyflann/util/weave_tools.py\n",
            "--- pyflann/pyflann/util/weave_tools.py\t(original)\n",
            "+++ pyflann/pyflann/util/weave_tools.py\t(refactored)\n",
            "@@ -121,7 +121,7 @@\n",
            "             defaults = [] if defaults==None else defaults\n",
            "             if len(args) != len(defaults):\n",
            "                 raise Exception(\"The %s function must have default values for all arguments\"%name)\n",
            "-            arg_tuples = zip(args,defaults) + list(varargs)\n",
            "+            arg_tuples = list(zip(args,defaults)) + list(varargs)\n",
            "             self.add_function(name,code,*arg_tuples)\n",
            "             return func\n",
            "         return decorate        \n",
            "@@ -138,7 +138,7 @@\n",
            "         defaults = [] if defaults==None else defaults\n",
            "         if len(args) != len(defaults):\n",
            "             raise Exception(\"The %s function must have default values for all arguments\"%name)\n",
            "-        vardict = dict(zip(args,defaults))\n",
            "+        vardict = dict(list(zip(args,defaults)))\n",
            "         self.extension.add_function(ext_tools.ext_function(name, code, args, local_dict = vardict))\n",
            "         return func\n",
            "         \n",
            "@@ -165,7 +165,7 @@\n",
            "         format = join([ s for (s,_,_) in members],'')\n",
            "         self.__struct_dict = dict( (v for (_,v,_) in members) )\n",
            "         self.__translation_dict = dict( ( (k[0],v) for (_,k,v) in members if v != None))\n",
            "-        print self.__translation_dict\n",
            "+        print(self.__translation_dict)\n",
            "         self.__struct = struct.Struct(format)\n",
            "         \n",
            "         \n",
            "RefactoringTool: Files that were modified:\n",
            "RefactoringTool: pyflann/setup.py\n",
            "RefactoringTool: pyflann/example/test_pyflann.py\n",
            "RefactoringTool: pyflann/pyflann/__init__.py\n",
            "RefactoringTool: pyflann/pyflann/index.py\n",
            "RefactoringTool: pyflann/pyflann/bindings/__init__.py\n",
            "RefactoringTool: pyflann/pyflann/bindings/flann_ctypes.py\n",
            "RefactoringTool: pyflann/pyflann/io/__init__.py\n",
            "RefactoringTool: pyflann/pyflann/io/binary_dataset.py\n",
            "RefactoringTool: pyflann/pyflann/io/dat_dataset.py\n",
            "RefactoringTool: pyflann/pyflann/io/dataset.py\n",
            "RefactoringTool: pyflann/pyflann/io/hdf5_dataset.py\n",
            "RefactoringTool: pyflann/pyflann/io/npy_dataset.py\n",
            "RefactoringTool: pyflann/pyflann/util/weave_tools.py\n",
            "RefactoringTool: Warnings/messages while refactoring:\n",
            "RefactoringTool: ### In file pyflann/pyflann/io/binary_dataset.py ###\n",
            "RefactoringTool: Line 65: could not convert: raise \"No .meta file present, you must specify dataset rows, cols asd dtype\"\n",
            "RefactoringTool: Python 3 does not support string exceptions\n",
            "/content/pyflann\n",
            "running install\n",
            "running bdist_egg\n",
            "running egg_info\n",
            "creating pyflann.egg-info\n",
            "writing pyflann.egg-info/PKG-INFO\n",
            "writing dependency_links to pyflann.egg-info/dependency_links.txt\n",
            "writing top-level names to pyflann.egg-info/top_level.txt\n",
            "writing manifest file 'pyflann.egg-info/SOURCES.txt'\n",
            "package init file 'pyflann/lib/__init__.py' not found (or not a regular file)\n",
            "writing manifest file 'pyflann.egg-info/SOURCES.txt'\n",
            "installing library code to build/bdist.linux-x86_64/egg\n",
            "running install_lib\n",
            "running build_py\n",
            "creating build\n",
            "creating build/lib\n",
            "creating build/lib/pyflann\n",
            "copying pyflann/__init__.py -> build/lib/pyflann\n",
            "copying pyflann/exceptions.py -> build/lib/pyflann\n",
            "copying pyflann/index.py -> build/lib/pyflann\n",
            "creating build/lib/pyflann/io\n",
            "copying pyflann/io/hdf5_dataset.py -> build/lib/pyflann/io\n",
            "copying pyflann/io/binary_dataset.py -> build/lib/pyflann/io\n",
            "copying pyflann/io/__init__.py -> build/lib/pyflann/io\n",
            "copying pyflann/io/dat_dataset.py -> build/lib/pyflann/io\n",
            "copying pyflann/io/npy_dataset.py -> build/lib/pyflann/io\n",
            "copying pyflann/io/dataset.py -> build/lib/pyflann/io\n",
            "creating build/lib/pyflann/bindings\n",
            "copying pyflann/bindings/flann_ctypes.py -> build/lib/pyflann/bindings\n",
            "copying pyflann/bindings/__init__.py -> build/lib/pyflann/bindings\n",
            "creating build/lib/pyflann/util\n",
            "copying pyflann/util/__init__.py -> build/lib/pyflann/util\n",
            "copying pyflann/util/weave_tools.py -> build/lib/pyflann/util\n",
            "creating build/lib/pyflann/lib\n",
            "creating build/lib/pyflann/lib/darwin\n",
            "copying pyflann/lib/darwin/libflann.dylib -> build/lib/pyflann/lib/darwin\n",
            "creating build/lib/pyflann/lib/win32\n",
            "creating build/lib/pyflann/lib/win32/x86\n",
            "copying pyflann/lib/win32/x86/flann.dll -> build/lib/pyflann/lib/win32/x86\n",
            "creating build/lib/pyflann/lib/win32/x64\n",
            "copying pyflann/lib/win32/x64/flann.dll -> build/lib/pyflann/lib/win32/x64\n",
            "creating build/lib/pyflann/lib/linux\n",
            "copying pyflann/lib/linux/libflann.so -> build/lib/pyflann/lib/linux\n",
            "creating build/bdist.linux-x86_64\n",
            "creating build/bdist.linux-x86_64/egg\n",
            "creating build/bdist.linux-x86_64/egg/pyflann\n",
            "creating build/bdist.linux-x86_64/egg/pyflann/lib\n",
            "creating build/bdist.linux-x86_64/egg/pyflann/lib/linux\n",
            "copying build/lib/pyflann/lib/linux/libflann.so -> build/bdist.linux-x86_64/egg/pyflann/lib/linux\n",
            "creating build/bdist.linux-x86_64/egg/pyflann/lib/darwin\n",
            "copying build/lib/pyflann/lib/darwin/libflann.dylib -> build/bdist.linux-x86_64/egg/pyflann/lib/darwin\n",
            "creating build/bdist.linux-x86_64/egg/pyflann/lib/win32\n",
            "creating build/bdist.linux-x86_64/egg/pyflann/lib/win32/x86\n",
            "copying build/lib/pyflann/lib/win32/x86/flann.dll -> build/bdist.linux-x86_64/egg/pyflann/lib/win32/x86\n",
            "creating build/bdist.linux-x86_64/egg/pyflann/lib/win32/x64\n",
            "copying build/lib/pyflann/lib/win32/x64/flann.dll -> build/bdist.linux-x86_64/egg/pyflann/lib/win32/x64\n",
            "copying build/lib/pyflann/__init__.py -> build/bdist.linux-x86_64/egg/pyflann\n",
            "creating build/bdist.linux-x86_64/egg/pyflann/bindings\n",
            "copying build/lib/pyflann/bindings/flann_ctypes.py -> build/bdist.linux-x86_64/egg/pyflann/bindings\n",
            "copying build/lib/pyflann/bindings/__init__.py -> build/bdist.linux-x86_64/egg/pyflann/bindings\n",
            "creating build/bdist.linux-x86_64/egg/pyflann/util\n",
            "copying build/lib/pyflann/util/__init__.py -> build/bdist.linux-x86_64/egg/pyflann/util\n",
            "copying build/lib/pyflann/util/weave_tools.py -> build/bdist.linux-x86_64/egg/pyflann/util\n",
            "copying build/lib/pyflann/exceptions.py -> build/bdist.linux-x86_64/egg/pyflann\n",
            "copying build/lib/pyflann/index.py -> build/bdist.linux-x86_64/egg/pyflann\n",
            "creating build/bdist.linux-x86_64/egg/pyflann/io\n",
            "copying build/lib/pyflann/io/hdf5_dataset.py -> build/bdist.linux-x86_64/egg/pyflann/io\n",
            "copying build/lib/pyflann/io/binary_dataset.py -> build/bdist.linux-x86_64/egg/pyflann/io\n",
            "copying build/lib/pyflann/io/__init__.py -> build/bdist.linux-x86_64/egg/pyflann/io\n",
            "copying build/lib/pyflann/io/dat_dataset.py -> build/bdist.linux-x86_64/egg/pyflann/io\n",
            "copying build/lib/pyflann/io/npy_dataset.py -> build/bdist.linux-x86_64/egg/pyflann/io\n",
            "copying build/lib/pyflann/io/dataset.py -> build/bdist.linux-x86_64/egg/pyflann/io\n",
            "byte-compiling build/bdist.linux-x86_64/egg/pyflann/__init__.py to __init__.cpython-36.pyc\n",
            "byte-compiling build/bdist.linux-x86_64/egg/pyflann/bindings/flann_ctypes.py to flann_ctypes.cpython-36.pyc\n",
            "byte-compiling build/bdist.linux-x86_64/egg/pyflann/bindings/__init__.py to __init__.cpython-36.pyc\n",
            "byte-compiling build/bdist.linux-x86_64/egg/pyflann/util/__init__.py to __init__.cpython-36.pyc\n",
            "byte-compiling build/bdist.linux-x86_64/egg/pyflann/util/weave_tools.py to weave_tools.cpython-36.pyc\n",
            "byte-compiling build/bdist.linux-x86_64/egg/pyflann/exceptions.py to exceptions.cpython-36.pyc\n",
            "byte-compiling build/bdist.linux-x86_64/egg/pyflann/index.py to index.cpython-36.pyc\n",
            "byte-compiling build/bdist.linux-x86_64/egg/pyflann/io/hdf5_dataset.py to hdf5_dataset.cpython-36.pyc\n",
            "byte-compiling build/bdist.linux-x86_64/egg/pyflann/io/binary_dataset.py to binary_dataset.cpython-36.pyc\n",
            "byte-compiling build/bdist.linux-x86_64/egg/pyflann/io/__init__.py to __init__.cpython-36.pyc\n",
            "byte-compiling build/bdist.linux-x86_64/egg/pyflann/io/dat_dataset.py to dat_dataset.cpython-36.pyc\n",
            "byte-compiling build/bdist.linux-x86_64/egg/pyflann/io/npy_dataset.py to npy_dataset.cpython-36.pyc\n",
            "byte-compiling build/bdist.linux-x86_64/egg/pyflann/io/dataset.py to dataset.cpython-36.pyc\n",
            "creating build/bdist.linux-x86_64/egg/EGG-INFO\n",
            "copying pyflann.egg-info/PKG-INFO -> build/bdist.linux-x86_64/egg/EGG-INFO\n",
            "copying pyflann.egg-info/SOURCES.txt -> build/bdist.linux-x86_64/egg/EGG-INFO\n",
            "copying pyflann.egg-info/dependency_links.txt -> build/bdist.linux-x86_64/egg/EGG-INFO\n",
            "copying pyflann.egg-info/top_level.txt -> build/bdist.linux-x86_64/egg/EGG-INFO\n",
            "writing build/bdist.linux-x86_64/egg/EGG-INFO/native_libs.txt\n",
            "zip_safe flag not set; analyzing archive contents...\n",
            "pyflann.bindings.__pycache__.flann_ctypes.cpython-36: module references __file__\n",
            "pyflann.util.__pycache__.weave_tools.cpython-36: module references __file__\n",
            "pyflann.util.__pycache__.weave_tools.cpython-36: module MAY be using inspect.getframeinfo\n",
            "creating dist\n",
            "creating 'dist/pyflann-1.6.13-py3.6.egg' and adding 'build/bdist.linux-x86_64/egg' to it\n",
            "removing 'build/bdist.linux-x86_64/egg' (and everything under it)\n",
            "Processing pyflann-1.6.13-py3.6.egg\n",
            "creating /usr/local/lib/python3.6/dist-packages/pyflann-1.6.13-py3.6.egg\n",
            "Extracting pyflann-1.6.13-py3.6.egg to /usr/local/lib/python3.6/dist-packages\n",
            "Adding pyflann 1.6.13 to easy-install.pth file\n",
            "\n",
            "Installed /usr/local/lib/python3.6/dist-packages/pyflann-1.6.13-py3.6.egg\n",
            "Processing dependencies for pyflann==1.6.13\n",
            "Finished processing dependencies for pyflann==1.6.13\n",
            "/content\n",
            "Collecting git+https://github.com/vioshyvo/mrpt/\n",
            "  Cloning https://github.com/vioshyvo/mrpt/ to /tmp/pip-req-build-yakooflr\n",
            "  Running command git clone -q https://github.com/vioshyvo/mrpt/ /tmp/pip-req-build-yakooflr\n",
            "Requirement already satisfied: numpy>=1.10.0 in /usr/local/lib/python3.6/dist-packages (from mrpt==1.0) (1.18.2)\n",
            "Building wheels for collected packages: mrpt\n",
            "  Building wheel for mrpt (setup.py) ... \u001b[?25l\u001b[?25hdone\n",
            "  Created wheel for mrpt: filename=mrpt-1.0-cp36-cp36m-linux_x86_64.whl size=1212694 sha256=f356ea6be2fbc1303085dafb340ae4059ffb0f8a207ca01bb2d48df5d6b49503\n",
            "  Stored in directory: /tmp/pip-ephem-wheel-cache-rcjc7ijo/wheels/6f/95/b4/dae3b3175bb3fd50156b68e9bbf77b6e947ed9624a41da4fc9\n",
            "Successfully built mrpt\n",
            "Installing collected packages: mrpt\n",
            "Successfully installed mrpt-1.0\n",
            "Collecting pynndescent\n",
            "\u001b[?25l  Downloading https://files.pythonhosted.org/packages/ba/b9/0167d701516d51b40b5d1bd6766807f9a2048e856c2880ae53ec3f97b55f/pynndescent-0.4.7.tar.gz (1.1MB)\n",
            "\u001b[K     |████████████████████████████████| 1.1MB 2.8MB/s \n",
            "\u001b[?25hRequirement already satisfied: scikit-learn>=0.18 in /usr/local/lib/python3.6/dist-packages (from pynndescent) (0.22.2.post1)\n",
            "Requirement already satisfied: scipy>=1.0 in /usr/local/lib/python3.6/dist-packages (from pynndescent) (1.4.1)\n",
            "Requirement already satisfied: numba>=0.46 in /usr/local/lib/python3.6/dist-packages (from pynndescent) (0.48.0)\n",
            "Requirement already satisfied: llvmlite>=0.30 in /usr/local/lib/python3.6/dist-packages (from pynndescent) (0.31.0)\n",
            "Requirement already satisfied: joblib>=0.11 in /usr/local/lib/python3.6/dist-packages (from pynndescent) (0.14.1)\n",
            "Requirement already satisfied: numpy>=1.11.0 in /usr/local/lib/python3.6/dist-packages (from scikit-learn>=0.18->pynndescent) (1.18.2)\n",
            "Requirement already satisfied: setuptools in /usr/local/lib/python3.6/dist-packages (from numba>=0.46->pynndescent) (46.1.3)\n",
            "Building wheels for collected packages: pynndescent\n",
            "  Building wheel for pynndescent (setup.py) ... \u001b[?25l\u001b[?25hdone\n",
            "  Created wheel for pynndescent: filename=pynndescent-0.4.7-cp36-none-any.whl size=42021 sha256=f9fa7fb167ea075b1f6a1ba43a420456992ca48173bb6bf914a1eacb40edee2e\n",
            "  Stored in directory: /root/.cache/pip/wheels/c6/a4/50/338b69c613a5002af6855a53f3f178530533682e4cd397cd49\n",
            "Successfully built pynndescent\n",
            "Installing collected packages: pynndescent\n",
            "Successfully installed pynndescent-0.4.7\n",
            "Collecting datasketch\n",
            "\u001b[?25l  Downloading https://files.pythonhosted.org/packages/e9/7a/975274a59ab7e0117a8304ae97220b5800d31f69813c97753a79239dabac/datasketch-1.5.1-py2.py3-none-any.whl (73kB)\n",
            "\u001b[K     |████████████████████████████████| 81kB 2.4MB/s \n",
            "\u001b[?25hRequirement already satisfied: numpy>=1.11 in /usr/local/lib/python3.6/dist-packages (from datasketch) (1.18.2)\n",
            "Installing collected packages: datasketch\n",
            "Successfully installed datasketch-1.5.1\n",
            "Collecting faiss\n",
            "\u001b[?25l  Downloading https://files.pythonhosted.org/packages/bd/1c/4ae6cb87cf0c09c25561ea48db11e25713b25c580909902a92c090b377c0/faiss-1.5.3-cp36-cp36m-manylinux1_x86_64.whl (4.7MB)\n",
            "\u001b[K     |████████████████████████████████| 4.7MB 2.8MB/s \n",
            "\u001b[?25hRequirement already satisfied: numpy in /usr/local/lib/python3.6/dist-packages (from faiss) (1.18.2)\n",
            "Installing collected packages: faiss\n",
            "Successfully installed faiss-1.5.3\n",
            "Collecting rpforest\n",
            "\u001b[?25l  Downloading https://files.pythonhosted.org/packages/2c/6c/e481dbc2db5729aaca7d981f77d9387c6dfe9d66cbe76a085405496aaff7/rpforest-1.6.tar.gz (4.4MB)\n",
            "\u001b[K     |████████████████████████████████| 4.4MB 2.8MB/s \n",
            "\u001b[?25h  Installing build dependencies ... \u001b[?25l\u001b[?25hdone\n",
            "  Getting requirements to build wheel ... \u001b[?25l\u001b[?25hdone\n",
            "  Installing backend dependencies ... \u001b[?25l\u001b[?25hdone\n",
            "    Preparing wheel metadata ... \u001b[?25l\u001b[?25hdone\n",
            "Requirement already satisfied: numpy<2.0.0,>=1.8.0 in /usr/local/lib/python3.6/dist-packages (from rpforest) (1.18.2)\n",
            "Building wheels for collected packages: rpforest\n",
            "  Building wheel for rpforest (PEP 517) ... \u001b[?25l\u001b[?25hdone\n",
            "  Created wheel for rpforest: filename=rpforest-1.6-cp36-cp36m-linux_x86_64.whl size=686993 sha256=92a44b391743f0f09e1e74044cd03c3ff6b5ceb0cfb6647245f7267e19a88027\n",
            "  Stored in directory: /root/.cache/pip/wheels/c1/e0/18/4b85e59d998a836b344d1225e28d80e928997d11ebdba18b9d\n",
            "Successfully built rpforest\n",
            "Installing collected packages: rpforest\n",
            "Successfully installed rpforest-1.6\n",
            "Collecting hnswlib\n",
            "  Downloading https://files.pythonhosted.org/packages/2a/5e/cc9a462fe81334433ce889a375e463d2febfb7540337243e6a6a53be7bbf/hnswlib-0.3.4.tar.gz\n",
            "Requirement already satisfied: pybind11>=2.0 in /usr/local/lib/python3.6/dist-packages (from hnswlib) (2.5.0)\n",
            "Requirement already satisfied: numpy in /usr/local/lib/python3.6/dist-packages (from hnswlib) (1.18.2)\n",
            "Building wheels for collected packages: hnswlib\n",
            "  Building wheel for hnswlib (setup.py) ... \u001b[?25l\u001b[?25hdone\n",
            "  Created wheel for hnswlib: filename=hnswlib-0.3.4-cp36-cp36m-linux_x86_64.whl size=999735 sha256=90811b2888be21d855b4d3463a04ffb1afc88723bc3c0dc2eda8409a25c751f4\n",
            "  Stored in directory: /root/.cache/pip/wheels/01/6b/15/8a8a677495f2f312c3439f1ed663db755836f810349b2e42e5\n",
            "Successfully built hnswlib\n",
            "Installing collected packages: hnswlib\n",
            "Successfully installed hnswlib-0.3.4\n",
            "Collecting nmslib\n",
            "\u001b[?25l  Downloading https://files.pythonhosted.org/packages/d5/fd/7d7428d29f12be5d1cc6d586d425b795cc9c596ae669593fd4f388602010/nmslib-2.0.6-cp36-cp36m-manylinux2010_x86_64.whl (12.9MB)\n",
            "\u001b[K     |████████████████████████████████| 13.0MB 244kB/s \n",
            "\u001b[?25hRequirement already satisfied: numpy>=1.10.0 in /usr/local/lib/python3.6/dist-packages (from nmslib) (1.18.2)\n",
            "Requirement already satisfied: pybind11>=2.2.3 in /usr/local/lib/python3.6/dist-packages (from nmslib) (2.5.0)\n",
            "Requirement already satisfied: psutil in /usr/local/lib/python3.6/dist-packages (from nmslib) (5.4.8)\n",
            "Installing collected packages: nmslib\n",
            "Successfully installed nmslib-2.0.6\n",
            "Collecting n2\n",
            "\u001b[?25l  Downloading https://files.pythonhosted.org/packages/f4/c9/57a2fecbe4d18b51416f30dc80260475bfde120b1144a033ab598bf6b128/n2-0.1.6.tar.gz (8.7MB)\n",
            "\u001b[K     |████████████████████████████████| 8.7MB 2.6MB/s \n",
            "\u001b[?25hRequirement already satisfied: cython in /usr/local/lib/python3.6/dist-packages (from n2) (0.29.16)\n",
            "Building wheels for collected packages: n2\n",
            "  Building wheel for n2 (setup.py) ... \u001b[?25l\u001b[?25hdone\n",
            "  Created wheel for n2: filename=n2-0.1.6-cp36-cp36m-linux_x86_64.whl size=1941175 sha256=9b074730513b77ac9974b7dd30a4f39e9a8f8c42909b201f8c729cb78eb698b2\n",
            "  Stored in directory: /root/.cache/pip/wheels/62/85/2f/f93f3e3e62851a2f65b64eedd2ce5d7d1c2af85221ae91541b\n",
            "Successfully built n2\n",
            "Installing collected packages: n2\n",
            "Successfully installed n2-0.1.6\n",
            "Cloning into 'panns'...\n",
            "remote: Enumerating objects: 742, done.\u001b[K\n",
            "remote: Total 742 (delta 0), reused 0 (delta 0), pack-reused 742\u001b[K\n",
            "Receiving objects: 100% (742/742), 268.19 KiB | 492.00 KiB/s, done.\n",
            "Resolving deltas: 100% (444/444), done.\n",
            "RefactoringTool: Skipping optional fixer: buffer\n",
            "RefactoringTool: Skipping optional fixer: idioms\n",
            "RefactoringTool: Skipping optional fixer: set_literal\n",
            "RefactoringTool: Skipping optional fixer: ws_comma\n",
            "RefactoringTool: No changes to panns/setup.py\n",
            "RefactoringTool: No changes to panns/panns/__init__.py\n",
            "RefactoringTool: Refactored panns/panns/index.py\n",
            "--- panns/panns/index.py\t(original)\n",
            "+++ panns/panns/index.py\t(refactored)\n",
            "@@ -14,17 +14,17 @@\n",
            " import mmap\n",
            " import shutil\n",
            " import logging\n",
            "-import cPickle as pickle\n",
            "+import pickle as pickle\n",
            " import multiprocessing\n",
            " \n",
            " try:\n",
            "     from scipy import linalg\n",
            "     import numpy\n",
            "     import h5py\n",
            "-except Exception, err:\n",
            "-    print 'Warning:', err\n",
            "-\n",
            "-from utils import *\n",
            "+except Exception as err:\n",
            "+    print('Warning:', err)\n",
            "+\n",
            "+from .utils import *\n",
            " \n",
            " \n",
            " logger = logging.getLogger('panns.pannsindex')\n",
            "@@ -129,7 +129,7 @@\n",
            "             self.mmap_core_data()\n",
            "             num_cores = multiprocessing.cpu_count()\n",
            "             pool = multiprocessing.Pool(num_cores)\n",
            "-            tbtr = [ pool.apply_async(build_parallel, [self.mtx.filename, self.mtx.shape, self.K, self.typ, t]) for t in xrange(c) ]\n",
            "+            tbtr = [ pool.apply_async(build_parallel, [self.mtx.filename, self.mtx.shape, self.K, self.typ, t]) for t in range(c) ]\n",
            "             self.btr = [ r.get() for r in tbtr ]\n",
            "             pool.terminate()\n",
            "         else:\n",
            "@@ -144,11 +144,11 @@\n",
            "         Parameters:\n",
            "         c: the number of binary trees to use in building the index.\n",
            "         \"\"\"\n",
            "-        for i in xrange(c):\n",
            "+        for i in range(c):\n",
            "             logger.info('pass %i ...' % i)\n",
            "             tree = NaiveTree()\n",
            "             self.btr.append(tree)\n",
            "-            children = range(len(self.mtx))\n",
            "+            children = list(range(len(self.mtx)))\n",
            "             self.make_tree(tree.root, children)\n",
            "         pass\n",
            " \n",
            "@@ -166,7 +166,7 @@\n",
            "             parent.nlst = children\n",
            "             return\n",
            "         l_child, r_child = None, None\n",
            "-        for attempt in xrange(16):\n",
            "+        for attempt in range(16):\n",
            "             parent.proj = numpy.random.randint(2**32-1)\n",
            "             u = self.random_direction(parent.proj)\n",
            "             parent.ofst = self.metric.split(u, children, self.mtx)\n",
            "@@ -272,7 +272,7 @@\n",
            "         c: number of nearest neighbors.\n",
            "         \"\"\"\n",
            "         r = list()\n",
            "-        for i in xrange(len(self.mtx)):\n",
            "+        for i in range(len(self.mtx)):\n",
            "             t = ( i, self.metric.distance(self.mtx[i],v) )\n",
            "             r.append(t)\n",
            "         r.sort(key = lambda x: x[1])\n",
            "@@ -328,7 +328,7 @@\n",
            "         try:\n",
            "             self.mtx = numpy.load(fname+'.npy')\n",
            "             logger.info('loading raw dataset as in-mem file ...')\n",
            "-        except Exception, err:\n",
            "+        except Exception as err:\n",
            "             self.mtx = numpy.memmap(fname+'.npy', dtype=self.typ, mode='r', shape=d['mtx_shape'])\n",
            "             logger.info('loading raw dataset as mmap file ...')\n",
            "         pass\n",
            "RefactoringTool: Refactored panns/panns/utils.py\n",
            "--- panns/panns/utils.py\t(original)\n",
            "+++ panns/panns/utils.py\t(refactored)\n",
            "@@ -156,7 +156,7 @@\n",
            "     mtx = numpy.memmap(mtx, dtype=dtype, mode='r', shape=shape_mtx)\n",
            "     numpy.random.seed(t**2 + numpy.random.randint(2**30))\n",
            "     tree = NaiveTree()\n",
            "-    children = range(len(mtx))\n",
            "+    children = list(range(len(mtx)))\n",
            "     make_tree_parallel(tree.root, children, mtx, shape_mtx[1], dtype, K)\n",
            "     return tree\n",
            " \n",
            "@@ -175,7 +175,7 @@\n",
            "         parent.nlst = children\n",
            "         return\n",
            "     l_child, r_child = None, None\n",
            "-    for attempt in xrange(16):\n",
            "+    for attempt in range(16):\n",
            "         parent.proj = numpy.random.randint(2**32-1)\n",
            "         u = gaussian_vector(dim, True, dtype, parent.proj)\n",
            "         parent.ofst = Metric.split(u, children, mtx)\n",
            "@@ -200,7 +200,7 @@\n",
            "         fname = tempfile.mkstemp()[1]\n",
            "     logger.info('mmaping the data to %s ...' % fname)\n",
            "     fpw = numpy.memmap(fname, dtype=dtype, mode='w+', shape=(m,n))\n",
            "-    for i in xrange(m):\n",
            "+    for i in range(m):\n",
            "         fpw[i] = mtx[i]\n",
            "     del fpw\n",
            "     return fname\n",
            "RefactoringTool: No changes to panns/test/test_big.py\n",
            "RefactoringTool: Refactored panns/test/test_hdf5.py\n",
            "--- panns/test/test_hdf5.py\t(original)\n",
            "+++ panns/test/test_hdf5.py\t(refactored)\n",
            "@@ -20,15 +20,15 @@\n",
            "     t = time.time()\n",
            "     m, n = 10000, 500\n",
            "     mtx = numpy.random.normal(0, 1, (m, n))\n",
            "-    print 'Matrix is generated, spent %.3f s' % (time.time()-t)\n",
            "+    print('Matrix is generated, spent %.3f s' % (time.time()-t))\n",
            " \n",
            "     f = h5py.File('test.hdf5', mode='w', driver='core', libver='latest')\n",
            "     dset = f.create_dataset('panns', (m, n), dtype='float')\n",
            "     t = time.time()\n",
            "-    for i in xrange(m):\n",
            "+    for i in range(m):\n",
            "         dset[i,:] = mtx[i,:]\n",
            "     f.close()\n",
            "-    print 'Iteration-based update is done in %.3f s' % (time.time()-t)\n",
            "+    print('Iteration-based update is done in %.3f s' % (time.time()-t))\n",
            "     pass\n",
            " \n",
            " \n",
            "@@ -36,14 +36,14 @@\n",
            "     t = time.time()\n",
            "     m, n = 10000, 500\n",
            "     mtx = numpy.random.normal(0, 1, (m, n))\n",
            "-    print 'Matrix is generated, spent %.3f s' % (time.time()-t)\n",
            "+    print('Matrix is generated, spent %.3f s' % (time.time()-t))\n",
            " \n",
            "     f = h5py.File('test.hdf5', mode='w', driver='core', libver='latest')\n",
            "     dset = f.create_dataset('panns', (m, n), dtype='float64')\n",
            "     t = time.time()\n",
            "     dset[:] = mtx[:]\n",
            "     f.close()\n",
            "-    print 'Block-based update is done in %.3f s' % (time.time()-t)\n",
            "+    print('Block-based update is done in %.3f s' % (time.time()-t))\n",
            "     pass\n",
            " \n",
            " \n",
            "@@ -53,12 +53,12 @@\n",
            "     m, n = dset.shape\n",
            "     z = numpy.zeros((1,n))\n",
            "     t0, c = 0.0, 100000\n",
            "-    for i in xrange(c):\n",
            "+    for i in range(c):\n",
            "         t1 = time.time()\n",
            "         idx = numpy.random.randint(m)\n",
            "         z = dset[idx,:]\n",
            "         t0 += time.time() - t1\n",
            "-    print 'Average lookup time is %.2f ms' % (t0 * 1000 / c)\n",
            "+    print('Average lookup time is %.2f ms' % (t0 * 1000 / c))\n",
            "     pass\n",
            " \n",
            " \n",
            "@@ -69,12 +69,12 @@\n",
            "     p.load_matrix(mtx)\n",
            "     t = time.time()\n",
            "     p.build(5)\n",
            "-    print 'Mem-based building took %.3f s' % (time.time()-t)\n",
            "+    print('Mem-based building took %.3f s' % (time.time()-t))\n",
            " \n",
            "     p.load_hdf5(fn)\n",
            "     t = time.time()\n",
            "     p.build(5)\n",
            "-    print 'HDF5-based building took %.3f s' % (time.time()-t)\n",
            "+    print('HDF5-based building took %.3f s' % (time.time()-t))\n",
            "     pass\n",
            " \n",
            " \n",
            "RefactoringTool: Refactored panns/test/test_inmem.py\n",
            "--- panns/test/test_inmem.py\t(original)\n",
            "+++ panns/test/test_inmem.py\t(refactored)\n",
            "@@ -8,7 +8,7 @@\n",
            " import os\n",
            " import sys\n",
            " import time\n",
            "-import cPickle as pickle\n",
            "+import pickle as pickle\n",
            " \n",
            " sys.path.append('../')\n",
            " from panns import *\n",
            "@@ -19,7 +19,7 @@\n",
            " \n",
            " def test_index_file():\n",
            "     rows, cols = 1000, 100\n",
            "-    print 'Build a %i x %i dataset ...' % (rows, cols)\n",
            "+    print('Build a %i x %i dataset ...' % (rows, cols))\n",
            "     vecs = numpy.random.normal(0,1,(rows,cols))\n",
            " \n",
            "     pidx = PannsIndex(cols, 'euclidean')\n",
            "@@ -31,18 +31,18 @@\n",
            "     v = gaussian_vector(cols, True)\n",
            " \n",
            "     t = time.time()\n",
            "-    print 'Test saving the index files ...'\n",
            "+    print('Test saving the index files ...')\n",
            "     pidx.save('mytest.idx', False)\n",
            "-    print 'Saving is done in %.3f s' % (time.time()-t)\n",
            "+    print('Saving is done in %.3f s' % (time.time()-t))\n",
            " \n",
            "-    print 'Test loading the index and querying ...'\n",
            "+    print('Test loading the index and querying ...')\n",
            "     t = time.time()\n",
            "     pidx.load('mytest.idx')\n",
            "-    print 'Loading is done in %.3f s' % (time.time()-t)\n",
            "+    print('Loading is done in %.3f s' % (time.time()-t))\n",
            " \n",
            "     t = time.time()\n",
            "     r = pidx.query(v, 10)\n",
            "-    print 'Test querying done in %.3f s' % (time.time()-t)\n",
            "+    print('Test querying done in %.3f s' % (time.time()-t))\n",
            "     pass\n",
            " \n",
            " \n",
            "RefactoringTool: Refactored panns/test/test_mmap.py\n",
            "--- panns/test/test_mmap.py\t(original)\n",
            "+++ panns/test/test_mmap.py\t(refactored)\n",
            "@@ -8,7 +8,7 @@\n",
            " import os\n",
            " import sys\n",
            " import time\n",
            "-import cPickle as pickle\n",
            "+import pickle as pickle\n",
            " \n",
            " sys.path.append('../')\n",
            " from panns import *\n",
            "@@ -19,30 +19,30 @@\n",
            " \n",
            " def generate_large_matrix():\n",
            "     rows, cols = 1000000, 500\n",
            "-    print 'Test serializing a %i x %i matrix ...' % (rows, cols)\n",
            "+    print('Test serializing a %i x %i matrix ...' % (rows, cols))\n",
            "     t = time.time()\n",
            "     vecs = numpy.random.normal(0,1,(rows,cols))\n",
            "-    print 'Matrix constructed, spent %.2f s' % (time.time() - t)\n",
            "+    print('Matrix constructed, spent %.2f s' % (time.time() - t))\n",
            " \n",
            "     f1 = open('test_data1', 'wb')\n",
            "     t = time.time()\n",
            "-    print 'saving as numpy npz format ...'\n",
            "+    print('saving as numpy npz format ...')\n",
            "     numpy.savez_compressed(f1, vecs)\n",
            "-    print 'save done, spent %.2f s' % (time.time() - t)\n",
            "+    print('save done, spent %.2f s' % (time.time() - t))\n",
            "     f1.close()\n",
            " \n",
            "     f2 = open('test_data2', 'wb')\n",
            "     t = time.time()\n",
            "-    print 'saving as self-defined format ...'\n",
            "+    print('saving as self-defined format ...')\n",
            "     for v in vecs:\n",
            "         f2.write(pickle.dumps(v, -1))\n",
            "     f2.close()\n",
            "-    print 'save done, spent %.2f s' % (time.time() - t)\n",
            "+    print('save done, spent %.2f s' % (time.time() - t))\n",
            "     pass\n",
            " \n",
            " \n",
            " def test_load_matrix(fn):\n",
            "-    print 'Loading matrix from self-defined format ...'\n",
            "+    print('Loading matrix from self-defined format ...')\n",
            "     f = open(fn, 'rb')\n",
            "     mtx = []\n",
            "     t = time.time()\n",
            "@@ -52,7 +52,7 @@\n",
            "             mtx.append(v)\n",
            "         except:\n",
            "             break\n",
            "-    print 'The matrix loaded from self-defined format, spent %.2f s' % (time.time() - t)\n",
            "+    print('The matrix loaded from self-defined format, spent %.2f s' % (time.time() - t))\n",
            "     pass\n",
            " \n",
            " \n",
            "RefactoringTool: Refactored panns/test/test_object_construction.py\n",
            "--- panns/test/test_object_construction.py\t(original)\n",
            "+++ panns/test/test_object_construction.py\t(refactored)\n",
            "@@ -24,17 +24,17 @@\n",
            "     rows, cols = 50000, 50\n",
            "     vecs = numpy.random.normal(0,1,(rows,cols))\n",
            "     pidx = PannsIndex(cols, 'euclidean')\n",
            "-    print 'Test adding vector function by building %i x %i dataset ...' % (rows, cols)\n",
            "+    print('Test adding vector function by building %i x %i dataset ...' % (rows, cols))\n",
            "     t = time.time()\n",
            "     for v in vecs:\n",
            "         pidx.add_vector(v)\n",
            "-    print 'Test is done in %.3f s' % (time.time() - t)\n",
            "+    print('Test is done in %.3f s' % (time.time() - t))\n",
            "     pass\n",
            " \n",
            " \n",
            " def test_index_file():\n",
            "     rows, cols = 10000, 500\n",
            "-    print 'Build a %i x %i dataset ...' % (rows, cols)\n",
            "+    print('Build a %i x %i dataset ...' % (rows, cols))\n",
            "     vecs = numpy.random.normal(0,1,(rows,cols))\n",
            " \n",
            "     pidx = PannsIndex(cols, 'euclidean')\n",
            "@@ -45,52 +45,52 @@\n",
            "     t = time.time()\n",
            "     v = gaussian_vector(cols, True)\n",
            "     r1 = pidx.linear_search(v, 10)\n",
            "-    print 'Linear search is done in %.3f s' % (time.time()-t)\n",
            "+    print('Linear search is done in %.3f s' % (time.time()-t))\n",
            "     r2 = pidx.query(v, 10)\n",
            "     m1 = precision(r1, r2)\n",
            "     m2 = recall(r1, r2)\n",
            "-    print \"Precision: %.3f, Recall: %.3f\" % (m1, m2)\n",
            "+    print(\"Precision: %.3f, Recall: %.3f\" % (m1, m2))\n",
            " \n",
            "     t = time.time()\n",
            "-    print 'Test saving the index files ...'\n",
            "+    print('Test saving the index files ...')\n",
            "     pidx.save('mytest.idx')\n",
            "-    print 'Saving is done in %.3f s' % (time.time()-t)\n",
            "+    print('Saving is done in %.3f s' % (time.time()-t))\n",
            " \n",
            "-    print 'Test loading the index and querying ...'\n",
            "+    print('Test loading the index and querying ...')\n",
            "     t = time.time()\n",
            "     pidx.load('mytest.idx')\n",
            "-    print 'Loading is done in %.3f s' % (time.time()-t)\n",
            "+    print('Loading is done in %.3f s' % (time.time()-t))\n",
            " \n",
            "     t = time.time()\n",
            "     r = pidx.query(v, 10)\n",
            "-    print 'Test querying done in %.3f s' % (time.time()-t)\n",
            "+    print('Test querying done in %.3f s' % (time.time()-t))\n",
            "     pass\n",
            " \n",
            " \n",
            " def test_parallel_build():\n",
            "-    print 'Test building index in parallel mode ...'\n",
            "+    print('Test building index in parallel mode ...')\n",
            "     rows, cols = 100000, 50\n",
            "-    print 'Build a %i x %i dataset ...' % (rows, cols)\n",
            "+    print('Build a %i x %i dataset ...' % (rows, cols))\n",
            "     vecs = numpy.random.normal(0,1,(rows,cols))\n",
            " \n",
            "     pidx = PannsIndex(cols)\n",
            "     pidx.load_matrix(vecs)\n",
            "     pidx.parallelize(True)\n",
            "     pidx.build(100)\n",
            "-    print 'Parallel bulding is done.'\n",
            "+    print('Parallel bulding is done.')\n",
            "     v = gaussian_vector(cols, True)\n",
            "     r1 = pidx.linear_search(v, 10)\n",
            "     r2 = pidx.query(v, 10)\n",
            "     m1 = precision(r1, r2)\n",
            "     m2 = recall(r1, r2)\n",
            "-    print \"Precision: %.3f, Recall: %.3f\" % (m1, m2)\n",
            "+    print(\"Precision: %.3f, Recall: %.3f\" % (m1, m2))\n",
            "     pass\n",
            " \n",
            " \n",
            " def test_load_csv(fname):\n",
            "     pidx = PannsIndex(50)\n",
            "     pidx.load_csv(fname, ',')\n",
            "-    print pidx.mtx\n",
            "+    print(pidx.mtx)\n",
            "     pass\n",
            " \n",
            " \n",
            "RefactoringTool: Refactored panns/test/test_panns.py\n",
            "--- panns/test/test_panns.py\t(original)\n",
            "+++ panns/test/test_panns.py\t(refactored)\n",
            "@@ -25,7 +25,7 @@\n",
            "     if seed is not None:\n",
            "         numpy.random.seed(seed)\n",
            "     vecs = numpy.random.normal(0,1,(m,n))\n",
            "-    for i in xrange(m):\n",
            "+    for i in range(m):\n",
            "         vecs[i,:] /= linalg.norm(vecs[i,:])\n",
            "     return vecs\n",
            " \n",
            "@@ -35,7 +35,7 @@\n",
            "     n = annoy.get_nns_by_vector(v.tolist(), 10)\n",
            "     r1 = precision(ans, n)\n",
            "     r2 = recall(ans, n)\n",
            "-    print \"Annoy precision: %.3f\\t recall: %.3f\\t %.4f ms\" % (r1, r2, (time.time()-t)*1000)\n",
            "+    print(\"Annoy precision: %.3f\\t recall: %.3f\\t %.4f ms\" % (r1, r2, (time.time()-t)*1000))\n",
            "     return r1, r2\n",
            " \n",
            " \n",
            "@@ -44,19 +44,19 @@\n",
            "     n = [ x for x, _  in panns.query(v, 10) ]\n",
            "     r1 = precision(ans, n)\n",
            "     r2 = recall(ans, n)\n",
            "-    print \"Panns precision: %.3f\\t recall: %.3f\\t %.4f ms\" % (r1, r2, (time.time()-t)*1000)\n",
            "+    print(\"Panns precision: %.3f\\t recall: %.3f\\t %.4f ms\" % (r1, r2, (time.time()-t)*1000))\n",
            "     return r1, r2\n",
            " \n",
            " \n",
            " def compare_both(metric):\n",
            "     m, n = 5000, 200\n",
            "-    print 'Build a %i x %i dataset ...' % (m, n)\n",
            "+    print('Build a %i x %i dataset ...' % (m, n))\n",
            "     vecs = random_norm_row_matrix(m, n) # + 5.5\n",
            " \n",
            "     num_prj = 128\n",
            " \n",
            "     t = AnnoyIndex(n, metric)\n",
            "-    for i in xrange(m):\n",
            "+    for i in range(m):\n",
            "         t.add_item(i, vecs[i].tolist())\n",
            "     t.build(num_prj)\n",
            " \n",
            "@@ -67,7 +67,7 @@\n",
            " \n",
            "     r1,r2,r3,r4 = 0,0,0,0\n",
            "     for i in range(50):\n",
            "-        print '+'*30, 'test', i\n",
            "+        print('+'*30, 'test', i)\n",
            "         v = gaussian_vector(n, True)\n",
            "         ans = [ x for x, _ in p.linear_search(v, 10) ]\n",
            " \n",
            "@@ -78,9 +78,9 @@\n",
            "         r3 += t3\n",
            "         r4 += t4\n",
            " \n",
            "-    print '='*30, 'Summary', metric\n",
            "-    print \"Annoy precision: %.3f\\t recall: %.3f\" % (r1/50, r2/50)\n",
            "-    print \"Panns precision: %.3f\\t recall: %.3f\" % (r3/50, r4/50)\n",
            "+    print('='*30, 'Summary', metric)\n",
            "+    print(\"Annoy precision: %.3f\\t recall: %.3f\" % (r1/50, r2/50))\n",
            "+    print(\"Panns precision: %.3f\\t recall: %.3f\" % (r3/50, r4/50))\n",
            " \n",
            "     t.save('annoy.'+metric+'.idx')\n",
            "     p.save('panns.'+metric+'.idx')\n",
            "RefactoringTool: Files that were modified:\n",
            "RefactoringTool: panns/setup.py\n",
            "RefactoringTool: panns/panns/__init__.py\n",
            "RefactoringTool: panns/panns/index.py\n",
            "RefactoringTool: panns/panns/utils.py\n",
            "RefactoringTool: panns/test/test_big.py\n",
            "RefactoringTool: panns/test/test_hdf5.py\n",
            "RefactoringTool: panns/test/test_inmem.py\n",
            "RefactoringTool: panns/test/test_mmap.py\n",
            "RefactoringTool: panns/test/test_object_construction.py\n",
            "RefactoringTool: panns/test/test_panns.py\n",
            "/content/panns\n",
            "running install\n",
            "running build\n",
            "running build_py\n",
            "creating build\n",
            "creating build/lib\n",
            "creating build/lib/panns\n",
            "copying panns/__init__.py -> build/lib/panns\n",
            "copying panns/utils.py -> build/lib/panns\n",
            "copying panns/index.py -> build/lib/panns\n",
            "running install_lib\n",
            "creating /usr/local/lib/python3.6/dist-packages/panns\n",
            "copying build/lib/panns/__init__.py -> /usr/local/lib/python3.6/dist-packages/panns\n",
            "copying build/lib/panns/utils.py -> /usr/local/lib/python3.6/dist-packages/panns\n",
            "copying build/lib/panns/index.py -> /usr/local/lib/python3.6/dist-packages/panns\n",
            "byte-compiling /usr/local/lib/python3.6/dist-packages/panns/__init__.py to __init__.cpython-36.pyc\n",
            "byte-compiling /usr/local/lib/python3.6/dist-packages/panns/utils.py to utils.cpython-36.pyc\n",
            "byte-compiling /usr/local/lib/python3.6/dist-packages/panns/index.py to index.cpython-36.pyc\n",
            "running install_egg_info\n",
            "Writing /usr/local/lib/python3.6/dist-packages/panns-0.2.0.egg-info\n",
            "/content\n",
            "Cloning into 'kgraph'...\n",
            "remote: Enumerating objects: 951, done.\u001b[K\n",
            "remote: Total 951 (delta 0), reused 0 (delta 0), pack-reused 951\u001b[K\n",
            "Receiving objects: 100% (951/951), 348.45 KiB | 482.00 KiB/s, done.\n",
            "Resolving deltas: 100% (583/583), done.\n",
            "RefactoringTool: Skipping optional fixer: buffer\n",
            "RefactoringTool: Skipping optional fixer: idioms\n",
            "RefactoringTool: Skipping optional fixer: set_literal\n",
            "RefactoringTool: Skipping optional fixer: ws_comma\n",
            "RefactoringTool: No changes to kgraph/setup.py\n",
            "RefactoringTool: Refactored kgraph/python/test.py\n",
            "--- kgraph/python/test.py\t(original)\n",
            "+++ kgraph/python/test.py\t(refactored)\n",
            "@@ -34,24 +34,24 @@\n",
            "     nbrs = NearestNeighbors(n_neighbors=K, algorithm='brute').fit(dataset)\n",
            "     start = time.time()\n",
            "     distances, gold = nbrs.kneighbors(query)\n",
            "-    print(\"Time:\", time.time() - start)\n",
            "+    print((\"Time:\", time.time() - start))\n",
            " \n",
            " print(\"Searching with brute force...\")\n",
            " start = time.time()\n",
            " result = index.search(query, K=K)                        # this uses all CPU threads, set prune=1 to make index smaller (no accuracy loss)\n",
            " bf_time = time.time() - start\n",
            "-print(\"Time:\", bf_time)\n",
            "+print((\"Time:\", bf_time))\n",
            " if gold is None:\n",
            "     gold = result\n",
            " else:\n",
            "-    print(\"Recall:\", eval(gold, result))\n",
            "+    print((\"Recall:\", eval(gold, result)))\n",
            " \n",
            " print(\"Searching with BLAS...\")\n",
            " start = time.time()\n",
            " result = index.search(query, K=K, blas=True)\n",
            " blas_time = time.time() - start\n",
            "-print(\"Time:\", blas_time)\n",
            "-print(\"Recall:\", eval(gold, result))\n",
            "+print((\"Time:\", blas_time))\n",
            "+print((\"Recall:\", eval(gold, result)))\n",
            " \n",
            " print(\"Building index...\")\n",
            " index.build(reverse=-1)\n",
            "@@ -59,8 +59,8 @@\n",
            " start = time.time()\n",
            " result = index.search(query, K=K)\n",
            " index_time = time.time() - start\n",
            "-print(\"Time:\", index_time)\n",
            "-print(\"Recall:\", eval(gold, result))\n",
            "+print((\"Time:\", index_time))\n",
            "+print((\"Recall:\", eval(gold, result)))\n",
            " \n",
            "-print(\"blas startup:\", bf_time / blas_time)\n",
            "-print(\"index startup:\", bf_time / index_time)\n",
            "+print((\"blas startup:\", bf_time / blas_time))\n",
            "+print((\"index startup:\", bf_time / index_time))\n",
            "RefactoringTool: Files that were modified:\n",
            "RefactoringTool: kgraph/setup.py\n",
            "RefactoringTool: kgraph/python/test.py\n",
            "/content/kgraph\n",
            "running install\n",
            "running build\n",
            "running build_ext\n",
            "building 'pykgraph' extension\n",
            "creating build\n",
            "creating build/temp.linux-x86_64-3.6\n",
            "creating build/temp.linux-x86_64-3.6/python\n",
            "x86_64-linux-gnu-gcc -pthread -DNDEBUG -g -fwrapv -O2 -Wall -g -fstack-protector-strong -Wformat -Werror=format-security -Wdate-time -D_FORTIFY_SOURCE=2 -fPIC -I. -I/usr/local/lib/python3.6/dist-packages/numpy/core/include -I/usr/include/python3.6m -c kgraph.cpp -o build/temp.linux-x86_64-3.6/kgraph.o -O3 -std=c++11 -msse2 -fopenmp -DKGRAPH_VERSION=b'2c924aa\\n'\n",
            "x86_64-linux-gnu-gcc -pthread -DNDEBUG -g -fwrapv -O2 -Wall -g -fstack-protector-strong -Wformat -Werror=format-security -Wdate-time -D_FORTIFY_SOURCE=2 -fPIC -I. -I/usr/local/lib/python3.6/dist-packages/numpy/core/include -I/usr/include/python3.6m -c metric.cpp -o build/temp.linux-x86_64-3.6/metric.o -O3 -std=c++11 -msse2 -fopenmp -DKGRAPH_VERSION=b'2c924aa\\n'\n",
            "x86_64-linux-gnu-gcc -pthread -DNDEBUG -g -fwrapv -O2 -Wall -g -fstack-protector-strong -Wformat -Werror=format-security -Wdate-time -D_FORTIFY_SOURCE=2 -fPIC -I. -I/usr/local/lib/python3.6/dist-packages/numpy/core/include -I/usr/include/python3.6m -c python/pykgraph.cpp -o build/temp.linux-x86_64-3.6/python/pykgraph.o -O3 -std=c++11 -msse2 -fopenmp -DKGRAPH_VERSION=b'2c924aa\\n'\n",
            "In file included from \u001b[01m\u001b[K/usr/local/lib/python3.6/dist-packages/numpy/core/include/numpy/ndarraytypes.h:1832:0\u001b[m\u001b[K,\n",
            "                 from \u001b[01m\u001b[K/usr/local/lib/python3.6/dist-packages/numpy/core/include/numpy/ndarrayobject.h:12\u001b[m\u001b[K,\n",
            "                 from \u001b[01m\u001b[Kpython/pykgraph.cpp:5\u001b[m\u001b[K:\n",
            "\u001b[01m\u001b[K/usr/local/lib/python3.6/dist-packages/numpy/core/include/numpy/npy_1_7_deprecated_api.h:17:2:\u001b[m\u001b[K \u001b[01;35m\u001b[Kwarning: \u001b[m\u001b[K#warning \"Using deprecated NumPy API, disable it with \" \"#define NPY_NO_DEPRECATED_API NPY_1_7_API_VERSION\" [\u001b[01;35m\u001b[K-Wcpp\u001b[m\u001b[K]\n",
            " #\u001b[01;35m\u001b[Kwarning\u001b[m\u001b[K \"Using deprecated NumPy API, disable it with \" \\\n",
            "  \u001b[01;35m\u001b[K^~~~~~~\u001b[m\u001b[K\n",
            "\u001b[01m\u001b[Kpython/pykgraph.cpp:\u001b[m\u001b[K In function ‘\u001b[01m\u001b[KPyObject* {anonymous}::load_lshkit(const string&, PyObject*)\u001b[m\u001b[K’:\n",
            "\u001b[01m\u001b[Kpython/pykgraph.cpp:64:29:\u001b[m\u001b[K \u001b[01;35m\u001b[Kwarning: \u001b[m\u001b[Kcomparison between signed and unsigned integer expressions [\u001b[01;35m\u001b[K-Wsign-compare\u001b[m\u001b[K]\n",
            "         if (!(\u001b[01;35m\u001b[Kdescr->elsize == elsize\u001b[m\u001b[K)) throw kgraph::io_error(path);\n",
            "               \u001b[01;35m\u001b[K~~~~~~~~~~~~~~^~~~~~~~~\u001b[m\u001b[K\n",
            "\u001b[01m\u001b[Kpython/pykgraph.cpp:66:44:\u001b[m\u001b[K \u001b[01;35m\u001b[Kwarning: \u001b[m\u001b[Kcomparison between signed and unsigned integer expressions [\u001b[01;35m\u001b[K-Wsign-compare\u001b[m\u001b[K]\n",
            "         if ((!nd) || (PyArray_ITEMSIZE(nd) != elsize)) throw kgraph::runtime_error(\"error creating numpy matrix\");\n",
            "\u001b[01m\u001b[Kpython/pykgraph.cpp:\u001b[m\u001b[K In function ‘\u001b[01m\u001b[Kvoid* init()\u001b[m\u001b[K’:\n",
            "\u001b[01m\u001b[Kpython/pykgraph.cpp:466:26:\u001b[m\u001b[K \u001b[01;35m\u001b[Kwarning: \u001b[m\u001b[Kcontrol reaches end of non-void function [\u001b[01;35m\u001b[K-Wreturn-type\u001b[m\u001b[K]\n",
            " init() { import_array(); \u001b[01;35m\u001b[K}\u001b[m\u001b[K\n",
            "                          \u001b[01;35m\u001b[K^\u001b[m\u001b[K\n",
            "creating build/lib.linux-x86_64-3.6\n",
            "x86_64-linux-gnu-g++ -pthread -shared -Wl,-O1 -Wl,-Bsymbolic-functions -Wl,-Bsymbolic-functions -Wl,-z,relro -Wl,-Bsymbolic-functions -Wl,-z,relro -g -fstack-protector-strong -Wformat -Werror=format-security -Wdate-time -D_FORTIFY_SOURCE=2 build/temp.linux-x86_64-3.6/kgraph.o build/temp.linux-x86_64-3.6/metric.o build/temp.linux-x86_64-3.6/python/pykgraph.o -lboost_python3 -lboost_timer -o build/lib.linux-x86_64-3.6/pykgraph.cpython-36m-x86_64-linux-gnu.so -fopenmp\n",
            "running install_lib\n",
            "copying build/lib.linux-x86_64-3.6/pykgraph.cpython-36m-x86_64-linux-gnu.so -> /usr/local/lib/python3.6/dist-packages\n",
            "running install_egg_info\n",
            "Writing /usr/local/lib/python3.6/dist-packages/pykgraph-2.0.egg-info\n",
            "/content\n",
            "Cloning into 'DolphinnPy'...\n",
            "remote: Enumerating objects: 72, done.\u001b[K\n",
            "remote: Total 72 (delta 0), reused 0 (delta 0), pack-reused 72\u001b[K\n",
            "Unpacking objects: 100% (72/72), done.\n",
            "RefactoringTool: Skipping optional fixer: buffer\n",
            "RefactoringTool: Skipping optional fixer: idioms\n",
            "RefactoringTool: Skipping optional fixer: set_literal\n",
            "RefactoringTool: Skipping optional fixer: ws_comma\n",
            "RefactoringTool: No changes to DolphinnPy/bruteforce.py\n",
            "RefactoringTool: Refactored DolphinnPy/dolphinn.py\n",
            "--- DolphinnPy/dolphinn.py\t(original)\n",
            "+++ DolphinnPy/dolphinn.py\t(refactored)\n",
            "@@ -21,7 +21,7 @@\n",
            "         flag=False\n",
            "         combs=np.ones((num_of_probes,self.K))\n",
            "         for r in range(self.K+1):\n",
            "-             for c in itertools.combinations(range(self.K),r):\n",
            "+             for c in itertools.combinations(list(range(self.K)),r):\n",
            "                  for i in c:\n",
            "                     combs[n,i]=-1\n",
            "                  n=n+1\n",
            "RefactoringTool: Refactored DolphinnPy/main.py\n",
            "--- DolphinnPy/main.py\t(original)\n",
            "+++ DolphinnPy/main.py\t(refactored)\n",
            "@@ -24,26 +24,26 @@\n",
            " P=fr.isotropize(P,D,m)\n",
            " Q=fr.isotropize(Q,D,m)\n",
            " K=int(np.log2(len(P)))-2   ##########################\n",
            "-print \"New dimension K=\",K\n",
            "+print(\"New dimension K=\",K)\n",
            " \n",
            " #PREPROCESSING\n",
            " tic = time.clock()\n",
            " dol=Dolphinn(P, D, K)\n",
            " toc=time.clock()\n",
            "-print \"Preprocessing time: \",toc-tic\n",
            "+print(\"Preprocessing time: \",toc-tic)\n",
            " \n",
            " #QUERIES\n",
            " tic= time.clock()     \n",
            " #assign keys to queries\n",
            " solQ=dol.queries(Q, M, num_of_probes)\n",
            " toc=time.clock()\n",
            "-print \"Average query time (Dolphinn): \",(toc-tic)/len(Q)    \n",
            "+print(\"Average query time (Dolphinn): \",(toc-tic)/len(Q))    \n",
            "     \n",
            " #BRUTEFORCE\n",
            " tic= time.clock()     \n",
            " solQQ=bf.bruteforce(P, Q)\n",
            " toc=time.clock()\n",
            "-print \"Average query time (Bruteforce): \",(toc-tic)/len(Q)  \n",
            "+print(\"Average query time (Bruteforce): \",(toc-tic)/len(Q))  \n",
            " \n",
            " #COMPUTE ACCURACY: max ratio (found distance)/(NN distance), number of exact NNs found\n",
            " n=0\n",
            "@@ -54,7 +54,7 @@\n",
            "    if solQ[i][0]==solQQ[i]:\n",
            "        n=n+1\n",
            " \n",
            "-print \"Max approximation: \",mmax, \", Accuracy (# of exact NNs): \",n/len(solQ)\n",
            "+print(\"Max approximation: \",mmax, \", Accuracy (# of exact NNs): \",n/len(solQ))\n",
            " \n",
            " \n",
            " \n",
            "RefactoringTool: Refactored DolphinnPy/utils.py\n",
            "--- DolphinnPy/utils.py\t(original)\n",
            "+++ DolphinnPy/utils.py\t(refactored)\n",
            "@@ -22,7 +22,7 @@\n",
            "     else:\n",
            "         s=len(P)\n",
            "     #randomly sample pointset\n",
            "-    J=np.random.choice(range(len(P)),s)\n",
            "+    J=np.random.choice(list(range(len(P))),s)\n",
            "     m=np.zeros(D)\n",
            "     for i in J:\n",
            "         m=np.add(m,P[i])\n",
            "RefactoringTool: Files that were modified:\n",
            "RefactoringTool: DolphinnPy/bruteforce.py\n",
            "RefactoringTool: DolphinnPy/dolphinn.py\n",
            "RefactoringTool: DolphinnPy/main.py\n",
            "RefactoringTool: DolphinnPy/utils.py\n",
            "Collecting FALCONN\n",
            "\u001b[?25l  Downloading https://files.pythonhosted.org/packages/96/b8/0d2c629d59398a7b3ed8726ce049abf6746bbf09d1ad15878d4fcf8048a6/FALCONN-1.3.1.tar.gz (1.4MB)\n",
            "\u001b[K     |████████████████████████████████| 1.4MB 2.8MB/s \n",
            "\u001b[?25hBuilding wheels for collected packages: FALCONN\n",
            "  Building wheel for FALCONN (setup.py) ... \u001b[?25l\u001b[?25hdone\n",
            "  Created wheel for FALCONN: filename=FALCONN-1.3.1-cp36-cp36m-linux_x86_64.whl size=10581188 sha256=4584fa17f7e65b4d5a1ceb46b34605f3bec9fd1acfcb79ce16be3437bfdfa448\n",
            "  Stored in directory: /root/.cache/pip/wheels/bf/36/96/d5538901888620fc0343c1ed9d5f87fce00869e00c12056ef8\n",
            "Successfully built FALCONN\n",
            "Installing collected packages: FALCONN\n",
            "Successfully installed FALCONN-1.3.1\n",
            "Collecting nanopq\n",
            "  Downloading https://files.pythonhosted.org/packages/d9/17/465feffcfcd84b0a800adcf4edfb2ede0b748a559154db6438f22625967e/nanopq-0.1.8-py3-none-any.whl\n",
            "Requirement already satisfied: scipy in /usr/local/lib/python3.6/dist-packages (from nanopq) (1.4.1)\n",
            "Requirement already satisfied: numpy in /usr/local/lib/python3.6/dist-packages (from nanopq) (1.18.2)\n",
            "Installing collected packages: nanopq\n",
            "Successfully installed nanopq-0.1.8\n"
          ],
          "name": "stdout"
        }
      ]
    },
    {
      "cell_type": "markdown",
      "metadata": {
        "id": "vc5QlTS60SLp",
        "colab_type": "text"
      },
      "source": [
        "# Embedding Selection - Facenet/DR-GAN"
      ]
    },
    {
      "cell_type": "code",
      "metadata": {
        "id": "v96nSmsTzc5r",
        "colab_type": "code",
        "colab": {}
      },
      "source": [
        "# Loading FaceNet Features\n",
        "\n",
        "import time\n",
        "import numpy as np\n",
        "import pandas as pd\n",
        "\n",
        "db = pd.read_pickle('/content/drive/My Drive/database.csv') #FaceNet Features\n",
        "feature = db['embedding']\n",
        "\n",
        "NUMBER_OF_SAMPLES = 5000\n",
        "NUMBER_OF_FEATURES = 512\n",
        "\n",
        "fnp = np.ndarray(shape=(NUMBER_OF_SAMPLES,NUMBER_OF_FEATURES))\n",
        "for f in range(NUMBER_OF_SAMPLES):\n",
        "  for e in range(NUMBER_OF_FEATURES):\n",
        "    fnp[f][e] = feature[f][0][e]\n",
        "\n",
        "INDEX = 125\n",
        "NUMBER_OF_NEIGHBOURS = 10\n",
        "\n",
        "query = fnp[INDEX].copy()\n",
        "query_reshape = np.array(query).reshape(1, -1)\n",
        "\n",
        "fnp_float32 = fnp.copy().astype(np.float32)\n",
        "query_float32 = query.copy().astype(np.float32)\n",
        "\n",
        "query_xaxis = [1,25,50,75,100]"
      ],
      "execution_count": 0,
      "outputs": []
    },
    {
      "cell_type": "code",
      "metadata": {
        "id": "NZVs20mCrFJD",
        "colab_type": "code",
        "colab": {}
      },
      "source": [
        "# Loading DR-GAN Features\n",
        "\n",
        "import numpy as np\n",
        "import pandas as pd\n",
        "\n",
        "db = pd.read_pickle('/content/drive/My Drive/database2.csv') #DRGAN Features\n",
        "\n",
        "feature = db['feature']\n",
        "\n",
        "NUMBER_OF_SAMPLES = 5000\n",
        "NUMBER_OF_FEATURES = 320\n",
        "\n",
        "fnp = np.ndarray(shape=(NUMBER_OF_SAMPLES,NUMBER_OF_FEATURES))\n",
        "for f in range(NUMBER_OF_SAMPLES):\n",
        "  for e in range(NUMBER_OF_FEATURES):\n",
        "    fnp[f][e] = feature[f][0][e]\n",
        "\n",
        "INDEX = 125\n",
        "NUMBER_OF_NEIGHBOURS = 10\n",
        "\n",
        "query = fnp[INDEX].copy()\n",
        "query_reshape = np.array(query).reshape(1, -1)\n",
        "\n",
        "fnp_float32 = fnp.copy().astype(np.float32)\n",
        "query_float32 = query.copy().astype(np.float32)\n",
        "\n",
        "query_xaxis = [1,25,50,75,100]"
      ],
      "execution_count": 0,
      "outputs": []
    },
    {
      "cell_type": "markdown",
      "metadata": {
        "id": "lkPnX0PKhe62",
        "colab_type": "text"
      },
      "source": [
        "# Neighbour Search Algorithms (For one query)"
      ]
    },
    {
      "cell_type": "code",
      "metadata": {
        "id": "0eRWGHx0voXa",
        "colab_type": "code",
        "outputId": "c41a4c07-808d-4467-9070-beb6703a4cc0",
        "colab": {
          "base_uri": "https://localhost:8080/",
          "height": 84
        }
      },
      "source": [
        "#!pip install annoy\n",
        "#!sudo apt-get install libomp-dev\n",
        "\n",
        "#Batch Processing is not present in Annoy\n",
        "\n",
        "import annoy\n",
        "from annoy import AnnoyIndex\n",
        "\n",
        "t_a = AnnoyIndex(NUMBER_OF_FEATURES,'angular')\n",
        "t_e = AnnoyIndex(NUMBER_OF_FEATURES,'euclidean')\n",
        "for i in range(NUMBER_OF_SAMPLES):\n",
        "  t_a.add_item(i,fnp[i])\n",
        "  t_e.add_item(i,fnp[i])\n",
        "\n",
        "\n",
        "t_a.build(NUMBER_OF_NEIGHBOURS)\n",
        "t1 = time.time()\n",
        "result = t_a.get_nns_by_item(INDEX,NUMBER_OF_NEIGHBOURS)\n",
        "t2 = time.time()\n",
        "print(\"AnnoyIndex (angular) : \",result)\n",
        "print(\"Time : \",str(t2-t1))\n",
        "\n",
        "t_e.build(NUMBER_OF_NEIGHBOURS)\n",
        "t1 = time.time()\n",
        "result = t_e.get_nns_by_item(INDEX,NUMBER_OF_NEIGHBOURS)\n",
        "t2 = time.time()\n",
        "print(\"AnnoyIndex (euclidean) : \",result)\n",
        "print(\"Time : \",str(t2-t1))\n",
        "\n"
      ],
      "execution_count": 0,
      "outputs": [
        {
          "output_type": "stream",
          "text": [
            "AnnoyIndex (angular) :  [125, 124, 129, 126, 128, 121, 127, 123, 374, 85]\n",
            "Time :  0.00015282630920410156\n",
            "AnnoyIndex (euclidean) :  [125, 124, 128, 121, 127, 123, 4102, 85, 2598, 3400]\n",
            "Time :  0.00014138221740722656\n"
          ],
          "name": "stdout"
        }
      ]
    },
    {
      "cell_type": "code",
      "metadata": {
        "id": "k5VJAMJSjgF8",
        "colab_type": "code",
        "colab": {}
      },
      "source": [
        "#Batch Allowed\n",
        "\n",
        "from sklearn.neighbors import NearestNeighbors\n",
        "\n",
        "nbrs1 = NearestNeighbors(n_neighbors=NUMBER_OF_NEIGHBOURS, algorithm='ball_tree').fit(fnp)\n",
        "nbrs2 = NearestNeighbors(n_neighbors=NUMBER_OF_NEIGHBOURS, algorithm='kd_tree').fit(fnp)\n",
        "nbrs3 = NearestNeighbors(n_neighbors=NUMBER_OF_NEIGHBOURS, algorithm='brute').fit(fnp)\n",
        "\n",
        "fnp_batch = fnp[0:100]\n",
        "\n",
        "t1 = time.time()\n",
        "indices = nbrs1.kneighbors(query_reshape, return_distance=False)\n",
        "t2 = time.time()\n",
        "print(\"Sklearn (Ball Tree) : \",indices)\n",
        "print(\"Time : \",str(t2-t1))\n",
        "\n",
        "t1 = time.time()\n",
        "indices2 = nbrs2.kneighbors(query_reshape, return_distance=False)\n",
        "t2 = time.time()\n",
        "print(\"Sklearn (KD Tree) : \",indices2)\n",
        "print(\"Time : \",str(t2-t1))\n",
        "\n",
        "t1 = time.time()\n",
        "indices3 = nbrs3.kneighbors(query_reshape, return_distance=False)\n",
        "t2 = time.time()\n",
        "print(\"Sklearn (Brute) : \",indices3)\n",
        "print(\"Time : \",str(t2-t1))"
      ],
      "execution_count": 0,
      "outputs": []
    },
    {
      "cell_type": "code",
      "metadata": {
        "id": "2AUP6dcin8yw",
        "colab_type": "code",
        "colab": {}
      },
      "source": [
        "#!pip install nearpy\n",
        "#Batch Not allowed\n",
        "\n",
        "from nearpy import Engine\n",
        "from nearpy.hashes import RandomBinaryProjections\n",
        "\n",
        "# Create a random binary hash with 2 bits\n",
        "rbp = RandomBinaryProjections('rbp', 2)\n",
        "\n",
        "# Create engine with pipeline configuration\n",
        "engine = Engine(NUMBER_OF_FEATURES, lshashes=[rbp])\n",
        "\n",
        "for i,f in enumerate(fnp):\n",
        "  engine.store_vector(f,'%d'%i)\n",
        "\n",
        "# Get nearest neighbours\n",
        "t1 = time.time()\n",
        "N = engine.neighbours(query)\n",
        "t2 = time.time()\n",
        "\n",
        "for n in N:\n",
        "  print(n[1])\n",
        "\n",
        "print(\"Time : \",str(t2-t1))"
      ],
      "execution_count": 0,
      "outputs": []
    },
    {
      "cell_type": "code",
      "metadata": {
        "id": "LrnanhGRyhSk",
        "colab_type": "code",
        "colab": {}
      },
      "source": [
        "#!pip install ngt\n",
        "#Batch no\n",
        "\n",
        "from ngtpy import create, Index\n",
        "\n",
        "create(b\"tmp\", NUMBER_OF_FEATURES)\n",
        "\n",
        "index = Index(b\"tmp\",)\n",
        "index.batch_insert(fnp)\n",
        "\n",
        "t1 = time.time()\n",
        "result = index.search(query, NUMBER_OF_NEIGHBOURS)\n",
        "t2 = time.time()\n",
        "\n",
        "print(len(result))\n",
        "\n",
        "for i, o in enumerate(result) :\n",
        "    print(str(i+1) + \": \" + str(o[0]))\n",
        "\n",
        "print(\"Time : \",str(t2-t1))"
      ],
      "execution_count": 0,
      "outputs": []
    },
    {
      "cell_type": "code",
      "metadata": {
        "id": "XXzPbTXzyzvp",
        "colab_type": "code",
        "colab": {}
      },
      "source": [
        "#!pip install git+https://github.com/vioshyvo/mrpt/\n",
        "\n",
        "import mrpt\n",
        "\n",
        "#Convert the fnp and query to type - float32\n",
        "\n",
        "index = mrpt.MRPTIndex(fnp_float32)\n",
        "\n",
        "t1 = time.time()\n",
        "result1 = index.exact_search(query_float32, NUMBER_OF_NEIGHBOURS, return_distances=False)\n",
        "t2 = time.time()\n",
        "print(result1)\n",
        "print(\"Time : \",str(t2-t1))\n",
        "\n",
        "target_recall = 0.9\n",
        "index2 = mrpt.MRPTIndex(fnp_float32)\n",
        "\n",
        "index2.build_autotune_sample(target_recall, NUMBER_OF_NEIGHBOURS)\n",
        "\n",
        "t1 = time.time()\n",
        "result2 = index2.ann(query_float32, return_distances=False)\n",
        "t2 = time.time()\n",
        "print(result2)\n",
        "print(\"Time : \",str(t2-t1))"
      ],
      "execution_count": 0,
      "outputs": []
    },
    {
      "cell_type": "code",
      "metadata": {
        "id": "NBEserlWzmbM",
        "colab_type": "code",
        "colab": {}
      },
      "source": [
        "#!pip install pynndescent\n",
        "#Batch processing present\n",
        "\n",
        "from pynndescent import NNDescent\n",
        "\n",
        "index = NNDescent(fnp)\n",
        "\n",
        "t1 = time.time()\n",
        "indices,distances = index.query(query_reshape, k=NUMBER_OF_NEIGHBOURS)\n",
        "t2 = time.time()\n",
        "print(indices)\n",
        "print(\"Time : \",str(t2-t1))"
      ],
      "execution_count": 0,
      "outputs": []
    },
    {
      "cell_type": "code",
      "metadata": {
        "id": "AIPh9C6DBrYD",
        "colab_type": "code",
        "colab": {}
      },
      "source": [
        "import faiss\n",
        "\n",
        "nlist = 5  # number of clusters\n",
        "quantiser = faiss.IndexFlatL2(NUMBER_OF_FEATURES)  \n",
        "index = faiss.IndexIVFFlat(quantiser, NUMBER_OF_FEATURES, nlist, faiss.METRIC_L2)\n",
        "\n",
        "index.train(fnp_float32)  # train on the database vectors\n",
        "index.add(fnp_float32)   # add the vectors and update the index\n",
        "\n",
        "#QUERY NEEDS TO BE FLOAT32 AND RESHAPED (TO FACILITATE BATCH PROCESSING)\n",
        "query_float32_reshape = query_float32.reshape(1,-1)\n",
        "fnp_float32_batch = fnp_float32[0:100]\n",
        "\n",
        "t1 = time.time()\n",
        "distances, indices = index.search(query_float32_reshape, NUMBER_OF_NEIGHBOURS)\n",
        "t2 = time.time()\n",
        "print(indices)\n",
        "print(\"Time : \",str(t2-t1))"
      ],
      "execution_count": 0,
      "outputs": []
    },
    {
      "cell_type": "code",
      "metadata": {
        "id": "lJ9DQbbl2Gyr",
        "colab_type": "code",
        "colab": {}
      },
      "source": [
        "#!pip install rpforest\n",
        "#No batch processing present\n",
        "\n",
        "from rpforest import RPForest\n",
        "\n",
        "model = RPForest(leaf_size=50, no_trees=10)\n",
        "model.fit(fnp)\n",
        "\n",
        "t1 = time.time()\n",
        "nns = model.query(query, NUMBER_OF_NEIGHBOURS)\n",
        "t2 = time.time()\n",
        "\n",
        "print(nns)\n",
        "print(\"Time : \",str(t2-t1))"
      ],
      "execution_count": 0,
      "outputs": []
    },
    {
      "cell_type": "code",
      "metadata": {
        "id": "mV7Z_rB33NOx",
        "colab_type": "code",
        "colab": {}
      },
      "source": [
        "#!pip install hnswlib\n",
        "\n",
        "import hnswlib\n",
        "\n",
        "#Batch processing present\n",
        "\n",
        "# Declaring index\n",
        "# possible options are l2, cosine or ip\n",
        "p = hnswlib.Index(space = 'l2', dim = NUMBER_OF_FEATURES)\n",
        "\n",
        "# Initing index - the maximum number of elements should be known beforehand\n",
        "p.init_index(max_elements = NUMBER_OF_SAMPLES)\n",
        "\n",
        "# Element insertion (can be called several times):\n",
        "p.add_items(fnp)\n",
        "\n",
        "# Query dataset, k - number of closest elements (returns 2 numpy arrays)\n",
        "t1 = time.time()\n",
        "labels, distances = p.knn_query(query_reshape, k = NUMBER_OF_NEIGHBOURS)\n",
        "t2 = time.time()\n",
        "\n",
        "print(labels)\n",
        "print(\"Time : \",str(t2-t1))"
      ],
      "execution_count": 0,
      "outputs": []
    },
    {
      "cell_type": "code",
      "metadata": {
        "id": "dmXur8m74Lwc",
        "colab_type": "code",
        "colab": {}
      },
      "source": [
        "#!pip install nmslib\n",
        "#no batch processing\n",
        "\n",
        "import nmslib\n",
        "\n",
        "# initialize a new index, using a HNSW index on Cosine Similarity\n",
        "\n",
        "methods = ['hnsw','sw-graph','napp']\n",
        "\n",
        "for m in methods:\n",
        "  index = nmslib.init(method=m, space='cosinesimil')\n",
        "  index.addDataPointBatch(fnp)\n",
        "  index.createIndex(print_progress=True)\n",
        "\n",
        "  # query for the nearest neighbours of query\n",
        "  t1 = time.time()\n",
        "  ids, distances = index.knnQuery(query, k=NUMBER_OF_NEIGHBOURS)\n",
        "  t2 = time.time()\n",
        "  print(m,\" : \",ids)\n",
        "  print(\"Time : \",str(t2-t1))\n",
        "\n",
        "# Batch Processing\n",
        "# get all nearest neighbours for all the datapoint\n",
        "# using a pool of 4 threads to compute\n",
        "#neighbours = index.knnQueryBatch(query_resize, k=NUMBER_OF_NEIGHBOURS, num_threads=4)\n",
        "#neighbours"
      ],
      "execution_count": 0,
      "outputs": []
    },
    {
      "cell_type": "code",
      "metadata": {
        "id": "HGeDqdX1ksKG",
        "colab_type": "code",
        "colab": {}
      },
      "source": [
        "#!pip install n2\n",
        "#No Batch Processing\n",
        "\n",
        "from n2 import HnswIndex\n",
        "\n",
        "index = HnswIndex(NUMBER_OF_FEATURES)\n",
        "for f in fnp:\n",
        "    index.add_data(f)\n",
        "index.build(m=5, n_threads=4)\n",
        "\n",
        "result = index.search_by_vector(query, NUMBER_OF_NEIGHBOURS)\n",
        "\n",
        "t1 = time.time()\n",
        "print(result)\n",
        "t2 = time.time()\n",
        "print(\"Time : \",str(t2-t1))"
      ],
      "execution_count": 0,
      "outputs": []
    },
    {
      "cell_type": "code",
      "metadata": {
        "id": "xFlJLe3g1gkZ",
        "colab_type": "code",
        "colab": {}
      },
      "source": [
        "'''\n",
        "!git clone https://github.com/ryanrhymes/panns\n",
        "!2to3 -w panns\n",
        "%cd panns\n",
        "!python setup.py install\n",
        "'''\n",
        "from panns import PannsIndex\n",
        "\n",
        "#No Batch Processing\n",
        "\n",
        "# create an index of Euclidean distance\n",
        "p = PannsIndex(dimension=NUMBER_OF_FEATURES, metric='euclidean')\n",
        "\n",
        "# generate a 1000 x 100 dataset\n",
        "for f in fnp:\n",
        "    p.add_vector(f)\n",
        "\n",
        "# build an index of n trees and save to a file\n",
        "n = 10\n",
        "p.build(n)\n",
        "\n",
        "t1 = time.time()\n",
        "nearest_neighbor = p.query(query, 10)\n",
        "t2 = time.time()\n",
        "\n",
        "for n  in nearest_neighbor:\n",
        "  print(n[0])\n",
        "\n",
        "print(\"Time : \",str(t2-t1))\n",
        "#%cd ../"
      ],
      "execution_count": 0,
      "outputs": []
    },
    {
      "cell_type": "code",
      "metadata": {
        "id": "f4sWax0ZOzj4",
        "colab_type": "code",
        "colab": {}
      },
      "source": [
        "'''\n",
        "!git clone https://github.com/aaalgo/kgraph\n",
        "!2to3 -w kgraph\n",
        "%cd kgraph\n",
        "!python setup.py install\n",
        "'''\n",
        "import pykgraph\n",
        "\n",
        "#Batch processing present\n",
        "\n",
        "index = pykgraph.KGraph(fnp, 'angular')  # another option is 'angular'\n",
        "index.build(reverse=-1)\n",
        "index.save(\"index_file\");\n",
        "# load with index.load(\"index_file\");\n",
        "\n",
        "t1 = time.time()\n",
        "knn = index.search(query_reshape, K=NUMBER_OF_NEIGHBOURS)      # this uses all CPU threads\n",
        "t2 = time.time()\n",
        "print(knn)\n",
        "print(\"Time : \",str(t2-t1))\n",
        "\n",
        "#%cd ../"
      ],
      "execution_count": 0,
      "outputs": []
    },
    {
      "cell_type": "code",
      "metadata": {
        "id": "jkA2STuMRDJ8",
        "colab_type": "code",
        "colab": {}
      },
      "source": [
        "#!git clone https://github.com/ipsarros/DolphinnPy\n",
        "#!2to3 -w DolphinnPy\n",
        "%cd /content/DolphinnPy\n",
        "\n",
        "#edited the main.py file of DolphinnPy\n",
        "\n",
        "#Batch processing is allowed\n",
        "\n",
        "import utils as fr\n",
        "import bruteforce as bf\n",
        "from dolphinn import *\n",
        "\n",
        "num_of_probes=20\n",
        "\n",
        "#CHANGE OF ORIGIN\n",
        "#find the mean of randomly sampled points\n",
        "m=fr.findmean(fnp,NUMBER_OF_FEATURES,10)\n",
        "\n",
        "#then consider this mean as the origin\n",
        "P=fr.isotropize(fnp,NUMBER_OF_FEATURES,m)\n",
        "Q=fr.isotropize(query_reshape,NUMBER_OF_FEATURES,m)\n",
        "K=int(np.log2(len(P)))-2 #New Dimension\n",
        "\n",
        "#PREPROCESSING\n",
        "dol=Dolphinn(P, NUMBER_OF_FEATURES, K)\n",
        "\n",
        "#QUERIES \n",
        "#assign keys to queries\n",
        "t1 = time.time()\n",
        "solQ=dol.queries(Q, 1, num_of_probes)\n",
        "t2 = time.time()\n",
        "print(\"DolphinnPy : \",solQ)\n",
        "print(\"Time : \",str(t2-t1))\n",
        "\n",
        "%cd ../"
      ],
      "execution_count": 0,
      "outputs": []
    },
    {
      "cell_type": "code",
      "metadata": {
        "id": "imN1mMpxJlAE",
        "colab_type": "code",
        "colab": {}
      },
      "source": [
        "#!pip install FALCONN\n",
        "#no batch processing\n",
        "\n",
        "import falconn\n",
        "\n",
        "params_cp = falconn.LSHConstructionParameters()\n",
        "params_cp.dimension = NUMBER_OF_FEATURES\n",
        "params_cp.lsh_family = falconn.LSHFamily.CrossPolytope\n",
        "params_cp.distance_function = falconn.DistanceFunction.EuclideanSquared\n",
        "params_cp.l = 50 #Number of Tables\n",
        "params_cp.num_rotations = 1\n",
        "params_cp.seed = 5721840\n",
        "\n",
        "# we want to use all the available threads to set up\n",
        "params_cp.num_setup_threads = 0\n",
        "params_cp.storage_hash_table = falconn.StorageHashTable.BitPackedFlatHashTable\n",
        "# we build 18-bit hashes so that each table has\n",
        "# 2^18 bins; this is a good choise since 2^18 is of the same\n",
        "# order of magnitude as the number of data points\n",
        "falconn.compute_number_of_hash_functions(18, params_cp)\n",
        "\n",
        "table = falconn.LSHIndex(params_cp)\n",
        "table.setup(fnp_float32)\n",
        "\n",
        "query_object = table.construct_query_object()\n",
        "query_object.set_num_probes(50)\n",
        "\n",
        "t1 = time.time()\n",
        "result = query_object.find_nearest_neighbor(query_float32)\n",
        "t2 = time.time()\n",
        "print(\"Falconn : \",result)\n",
        "print(\"Time : \",str(t2-t1))"
      ],
      "execution_count": 0,
      "outputs": []
    },
    {
      "cell_type": "code",
      "metadata": {
        "id": "5NoQd8Yk10mN",
        "colab_type": "code",
        "colab": {}
      },
      "source": [
        "#!pip install nanopq\n",
        "#No batch processing\n",
        "\n",
        "import nanopq\n",
        "# Instantiate with M=8 sub-spaces\n",
        "pq = nanopq.PQ(M=8)\n",
        "\n",
        "# Train codewords\n",
        "pq.fit(fnp_float32)\n",
        "\n",
        "# Encode to PQ-codes\n",
        "X_code = pq.encode(fnp_float32)  # (10000, 8) with dtype=np.uint8\n",
        "\n",
        "t1 = time.time()\n",
        "dists = pq.dtable(query_float32).adist(X_code)\n",
        "min_n = np.argmin(dists)\n",
        "t2 = time.time()\n",
        "print(min_n)\n",
        "print(\"Time : \",str(t2-t1))"
      ],
      "execution_count": 0,
      "outputs": []
    },
    {
      "cell_type": "code",
      "metadata": {
        "id": "aOMDyGxiMWUl",
        "colab_type": "code",
        "colab": {}
      },
      "source": [
        "%cd /content\n",
        "!rm -rf pyflann\n",
        "!git clone https://github.com/primetang/pyflann.git\n",
        "!2to3 -w pyflann\n",
        "%cd pyflann\n",
        "!python setup.py install\n",
        "\n",
        "from pyflann import *\n",
        "\n",
        "flann = FLANN()\n",
        "result, dists = flann.nn(\n",
        "    fnp, query_reshape, 10, algorithm=\"kmeans\", branching=32, iterations=7, checks=16)\n",
        "print(result)\n",
        "\n",
        "%cd ../"
      ],
      "execution_count": 0,
      "outputs": []
    },
    {
      "cell_type": "markdown",
      "metadata": {
        "id": "X92RDJlYPW-r",
        "colab_type": "text"
      },
      "source": [
        "# Benchmarking"
      ]
    },
    {
      "cell_type": "code",
      "metadata": {
        "id": "k7h8wEhQxhnn",
        "colab_type": "code",
        "outputId": "b0c53102-b696-4801-de99-c3c43b113660",
        "colab": {
          "base_uri": "https://localhost:8080/",
          "height": 315
        }
      },
      "source": [
        "import annoy\n",
        "from annoy import AnnoyIndex\n",
        "\n",
        "t_a = AnnoyIndex(NUMBER_OF_FEATURES,'angular')\n",
        "\n",
        "for i in range(NUMBER_OF_SAMPLES):\n",
        "  t_a.add_item(i,fnp[i])\n",
        "\n",
        "t_a.build(NUMBER_OF_NEIGHBOURS)\n",
        "\n",
        "annoy_time_yaxis = []\n",
        "\n",
        "for query_count in  query_xaxis:\n",
        "  sum=0\n",
        "  for index in range(query_count):\n",
        "    t1 = time.time()\n",
        "    result = t_a.get_nns_by_item(index,NUMBER_OF_NEIGHBOURS)\n",
        "    t2 = time.time()\n",
        "    sum = sum + (t2-t1)\n",
        "  annoy_time_yaxis.append(sum)\n",
        "\n",
        "print(annoy_time_yaxis)\n",
        "print(query_xaxis)\n",
        "\n",
        "import matplotlib.pyplot as plt\n",
        "plt.plot(query_xaxis, annoy_time_yaxis)"
      ],
      "execution_count": 0,
      "outputs": [
        {
          "output_type": "stream",
          "text": [
            "[9.703636169433594e-05, 0.0019578933715820312, 0.003805875778198242, 0.005448579788208008, 0.007140398025512695]\n",
            "[1, 25, 50, 75, 100]\n"
          ],
          "name": "stdout"
        },
        {
          "output_type": "execute_result",
          "data": {
            "text/plain": [
              "[<matplotlib.lines.Line2D at 0x7f958ea24eb8>]"
            ]
          },
          "metadata": {
            "tags": []
          },
          "execution_count": 4
        },
        {
          "output_type": "display_data",
          "data": {
            "image/png": "[encoded data removed]",
            "text/plain": [
              "<Figure size 432x288 with 1 Axes>"
            ]
          },
          "metadata": {
            "tags": [],
            "needs_background": "light"
          }
        }
      ]
    },
    {
      "cell_type": "code",
      "metadata": {
        "id": "QcA1p0fpzpZ-",
        "colab_type": "code",
        "outputId": "2f70462a-bb87-44bc-c931-d87166f3e32e",
        "colab": {
          "base_uri": "https://localhost:8080/",
          "height": 315
        }
      },
      "source": [
        "from sklearn.neighbors import NearestNeighbors\n",
        "\n",
        "nbrs1 = NearestNeighbors(n_neighbors=NUMBER_OF_NEIGHBOURS, algorithm='ball_tree').fit(fnp)\n",
        "\n",
        "sklearn1_time_yaxis = []\n",
        "\n",
        "for query_count in  query_xaxis:\n",
        "  sum=0\n",
        "  fnp_batch = fnp[0:query_count]\n",
        "  t1 = time.time()\n",
        "  indices = nbrs1.kneighbors(fnp_batch, return_distance=False)\n",
        "  t2 = time.time()\n",
        "  sum = sum + (t2-t1)\n",
        "  sklearn1_time_yaxis.append(sum)\n",
        "\n",
        "print(sklearn1_time_yaxis)\n",
        "print(query_xaxis)\n",
        "\n",
        "import matplotlib.pyplot as plt\n",
        "plt.plot(query_xaxis, sklearn1_time_yaxis)"
      ],
      "execution_count": 0,
      "outputs": [
        {
          "output_type": "stream",
          "text": [
            "[0.0042819976806640625, 0.07860422134399414, 0.15915274620056152, 0.2439098358154297, 0.3133072853088379]\n",
            "[1, 25, 50, 75, 100]\n"
          ],
          "name": "stdout"
        },
        {
          "output_type": "execute_result",
          "data": {
            "text/plain": [
              "[<matplotlib.lines.Line2D at 0x7f95808f2fd0>]"
            ]
          },
          "metadata": {
            "tags": []
          },
          "execution_count": 5
        },
        {
          "output_type": "display_data",
          "data": {
            "image/png": "[encoded data removed]",
            "text/plain": [
              "<Figure size 432x288 with 1 Axes>"
            ]
          },
          "metadata": {
            "tags": [],
            "needs_background": "light"
          }
        }
      ]
    },
    {
      "cell_type": "code",
      "metadata": {
        "id": "AyI4UQ091JGO",
        "colab_type": "code",
        "outputId": "441e042e-96c2-4c9c-de2d-db6758619ee6",
        "colab": {
          "base_uri": "https://localhost:8080/",
          "height": 315
        }
      },
      "source": [
        "from sklearn.neighbors import NearestNeighbors\n",
        "\n",
        "nbrs2 = NearestNeighbors(n_neighbors=NUMBER_OF_NEIGHBOURS, algorithm='kd_tree').fit(fnp)\n",
        "\n",
        "sklearn2_time_yaxis = []\n",
        "\n",
        "for query_count in  query_xaxis:\n",
        "  sum=0\n",
        "  fnp_batch = fnp[0:query_count]\n",
        "  t1 = time.time()\n",
        "  indices = nbrs2.kneighbors(fnp_batch, return_distance=False)\n",
        "  t2 = time.time()\n",
        "  sum = sum + (t2-t1)\n",
        "  sklearn2_time_yaxis.append(sum)\n",
        "\n",
        "print(sklearn2_time_yaxis)\n",
        "print(query_xaxis)\n",
        "\n",
        "import matplotlib.pyplot as plt\n",
        "plt.plot(query_xaxis, sklearn2_time_yaxis)"
      ],
      "execution_count": 0,
      "outputs": [
        {
          "output_type": "stream",
          "text": [
            "[0.0064623355865478516, 0.11869573593139648, 0.24313020706176758, 0.36141443252563477, 0.47583675384521484]\n",
            "[1, 25, 50, 75, 100]\n"
          ],
          "name": "stdout"
        },
        {
          "output_type": "execute_result",
          "data": {
            "text/plain": [
              "[<matplotlib.lines.Line2D at 0x7f9580865e10>]"
            ]
          },
          "metadata": {
            "tags": []
          },
          "execution_count": 6
        },
        {
          "output_type": "display_data",
          "data": {
            "image/png": "[encoded data removed]",
            "text/plain": [
              "<Figure size 432x288 with 1 Axes>"
            ]
          },
          "metadata": {
            "tags": [],
            "needs_background": "light"
          }
        }
      ]
    },
    {
      "cell_type": "code",
      "metadata": {
        "id": "uHqH-xEa1JVW",
        "colab_type": "code",
        "outputId": "54a991d7-37f1-4f1d-e08e-e37536802a80",
        "colab": {
          "base_uri": "https://localhost:8080/",
          "height": 315
        }
      },
      "source": [
        "from sklearn.neighbors import NearestNeighbors\n",
        "\n",
        "nbrs3 = NearestNeighbors(n_neighbors=NUMBER_OF_NEIGHBOURS, algorithm='brute').fit(fnp)\n",
        "\n",
        "sklearn3_time_yaxis = []\n",
        "\n",
        "for query_count in  query_xaxis:\n",
        "  sum=0\n",
        "  fnp_batch = fnp[0:query_count]\n",
        "  t1 = time.time()\n",
        "  indices = nbrs3.kneighbors(fnp_batch, return_distance=False)\n",
        "  t2 = time.time()\n",
        "  sum = sum + (t2-t1)\n",
        "  sklearn3_time_yaxis.append(sum)\n",
        "\n",
        "print(sklearn3_time_yaxis)\n",
        "print(query_xaxis)\n",
        "\n",
        "import matplotlib.pyplot as plt\n",
        "plt.plot(query_xaxis, sklearn3_time_yaxis)"
      ],
      "execution_count": 0,
      "outputs": [
        {
          "output_type": "stream",
          "text": [
            "[0.005602836608886719, 0.016942501068115234, 0.020728349685668945, 0.027523517608642578, 0.03310847282409668]\n",
            "[1, 25, 50, 75, 100]\n"
          ],
          "name": "stdout"
        },
        {
          "output_type": "execute_result",
          "data": {
            "text/plain": [
              "[<matplotlib.lines.Line2D at 0x7f957db2b5c0>]"
            ]
          },
          "metadata": {
            "tags": []
          },
          "execution_count": 9
        },
        {
          "output_type": "display_data",
          "data": {
            "image/png": "[encoded data removed]",
            "text/plain": [
              "<Figure size 432x288 with 1 Axes>"
            ]
          },
          "metadata": {
            "tags": [],
            "needs_background": "light"
          }
        }
      ]
    },
    {
      "cell_type": "code",
      "metadata": {
        "id": "2jdRHv2p19NX",
        "colab_type": "code",
        "outputId": "5f25aa63-c25a-422e-941f-611f22943f19",
        "colab": {
          "base_uri": "https://localhost:8080/",
          "height": 315
        }
      },
      "source": [
        "from nearpy import Engine\n",
        "from nearpy.hashes import RandomBinaryProjections\n",
        "\n",
        "# Create a random binary hash with 2 bits\n",
        "rbp = RandomBinaryProjections('rbp', 2)\n",
        "\n",
        "# Create engine with pipeline configuration\n",
        "engine = Engine(NUMBER_OF_FEATURES, lshashes=[rbp])\n",
        "\n",
        "for i,f in enumerate(fnp):\n",
        "  engine.store_vector(f,'%d'%i)\n",
        "\n",
        "nearpy_time_yaxis = []\n",
        "\n",
        "for query_count in  query_xaxis:\n",
        "  sum=0\n",
        "  fnp_batch = fnp[0:query_count]\n",
        "  for fb in fnp_batch:\n",
        "    t1 = time.time()\n",
        "    N = engine.neighbours(query)\n",
        "    t2 = time.time()\n",
        "    sum = sum + (t2-t1)\n",
        "  nearpy_time_yaxis.append(sum)\n",
        "\n",
        "print(nearpy_time_yaxis)\n",
        "print(query_xaxis)\n",
        "\n",
        "import matplotlib.pyplot as plt\n",
        "plt.plot(query_xaxis, nearpy_time_yaxis)"
      ],
      "execution_count": 0,
      "outputs": [
        {
          "output_type": "stream",
          "text": [
            "[0.004785060882568359, 0.09452986717224121, 0.195206880569458, 0.30721330642700195, 0.41117286682128906]\n",
            "[1, 25, 50, 75, 100]\n"
          ],
          "name": "stdout"
        },
        {
          "output_type": "execute_result",
          "data": {
            "text/plain": [
              "[<matplotlib.lines.Line2D at 0x7f957dbcd550>]"
            ]
          },
          "metadata": {
            "tags": []
          },
          "execution_count": 8
        },
        {
          "output_type": "display_data",
          "data": {
            "image/png": "[encoded data removed]",
            "text/plain": [
              "<Figure size 432x288 with 1 Axes>"
            ]
          },
          "metadata": {
            "tags": [],
            "needs_background": "light"
          }
        }
      ]
    },
    {
      "cell_type": "code",
      "metadata": {
        "id": "z0Aqs-wd_T2j",
        "colab_type": "code",
        "outputId": "b7e0d15b-59e2-44f1-a2bb-53d0f87a354b",
        "colab": {
          "base_uri": "https://localhost:8080/",
          "height": 315
        }
      },
      "source": [
        "from ngtpy import create, Index\n",
        "\n",
        "create(b\"tmp\", NUMBER_OF_FEATURES)\n",
        "\n",
        "index = Index(b\"tmp\",)\n",
        "index.batch_insert(fnp)\n",
        "\n",
        "ngt_time_yaxis = []\n",
        "\n",
        "for query_count in  query_xaxis:\n",
        "  sum=0\n",
        "  fnp_batch = fnp[0:query_count]\n",
        "  for fb in fnp_batch:\n",
        "    t1 = time.time()\n",
        "    result = index.search(query, NUMBER_OF_NEIGHBOURS)\n",
        "    t2 = time.time()\n",
        "    sum = sum + (t2-t1)\n",
        "  ngt_time_yaxis.append(sum)\n",
        "\n",
        "print(ngt_time_yaxis)\n",
        "print(query_xaxis)\n",
        "\n",
        "import matplotlib.pyplot as plt\n",
        "plt.plot(query_xaxis, ngt_time_yaxis)"
      ],
      "execution_count": 0,
      "outputs": [
        {
          "output_type": "stream",
          "text": [
            "[0.0003669261932373047, 0.0071413516998291016, 0.009884834289550781, 0.01469874382019043, 0.01995849609375]\n",
            "[1, 25, 50, 75, 100]\n"
          ],
          "name": "stdout"
        },
        {
          "output_type": "execute_result",
          "data": {
            "text/plain": [
              "[<matplotlib.lines.Line2D at 0x7f957db0aac8>]"
            ]
          },
          "metadata": {
            "tags": []
          },
          "execution_count": 10
        },
        {
          "output_type": "display_data",
          "data": {
            "image/png": "[encoded data removed]",
            "text/plain": [
              "<Figure size 432x288 with 1 Axes>"
            ]
          },
          "metadata": {
            "tags": [],
            "needs_background": "light"
          }
        }
      ]
    },
    {
      "cell_type": "code",
      "metadata": {
        "id": "wKqY82Vo_0UZ",
        "colab_type": "code",
        "outputId": "ec5a428d-ac8c-461f-a90f-5d07f9553f1e",
        "colab": {
          "base_uri": "https://localhost:8080/",
          "height": 315
        }
      },
      "source": [
        "import mrpt\n",
        "\n",
        "#Convert the fnp and query to type - float32\n",
        "\n",
        "target_recall = 0.9\n",
        "index = mrpt.MRPTIndex(fnp_float32)\n",
        "index.build_autotune_sample(target_recall, NUMBER_OF_NEIGHBOURS)\n",
        "\n",
        "\n",
        "mrpt_time_yaxis = []\n",
        "\n",
        "for query_count in  query_xaxis:\n",
        "  sum=0\n",
        "  fnp_batch = fnp_float32[0:query_count]\n",
        "  for fb in fnp_batch:\n",
        "    t1 = time.time()\n",
        "    result = index.ann(fb, return_distances=False)\n",
        "    t2 = time.time()\n",
        "    sum = sum + (t2-t1)\n",
        "  mrpt_time_yaxis.append(sum)\n",
        "\n",
        "print(mrpt_time_yaxis)\n",
        "print(query_xaxis)\n",
        "\n",
        "import matplotlib.pyplot as plt\n",
        "plt.plot(query_xaxis, mrpt_time_yaxis)"
      ],
      "execution_count": 0,
      "outputs": [
        {
          "output_type": "stream",
          "text": [
            "[0.0001232624053955078, 0.0016710758209228516, 0.003483295440673828, 0.004981517791748047, 0.006522178649902344]\n",
            "[1, 25, 50, 75, 100]\n"
          ],
          "name": "stdout"
        },
        {
          "output_type": "execute_result",
          "data": {
            "text/plain": [
              "[<matplotlib.lines.Line2D at 0x7f957dadddd8>]"
            ]
          },
          "metadata": {
            "tags": []
          },
          "execution_count": 11
        },
        {
          "output_type": "display_data",
          "data": {
            "image/png": "[encoded data removed]",
            "text/plain": [
              "<Figure size 432x288 with 1 Axes>"
            ]
          },
          "metadata": {
            "tags": [],
            "needs_background": "light"
          }
        }
      ]
    },
    {
      "cell_type": "code",
      "metadata": {
        "id": "EnAJ6-rnArKr",
        "colab_type": "code",
        "outputId": "aa4c904a-4ea6-42ea-cf65-fd03d1c67f34",
        "colab": {
          "base_uri": "https://localhost:8080/",
          "height": 399
        }
      },
      "source": [
        "from pynndescent import NNDescent\n",
        "\n",
        "#First index takes time??\n",
        "\n",
        "index = NNDescent(fnp)\n",
        "indices,distances = index.query(query_reshape, k=NUMBER_OF_NEIGHBOURS)\n",
        "\n",
        "pynndescent_time_yaxis = []\n",
        "\n",
        "for query_count in  query_xaxis:\n",
        "  sum=0\n",
        "  fnp_batch = fnp[0:query_count]\n",
        "  print(fnp_batch.shape)\n",
        "  t1 = time.time()\n",
        "  indices,distances = index.query(fnp_batch, k=NUMBER_OF_NEIGHBOURS)\n",
        "  t2 = time.time()\n",
        "  sum = sum + (t2-t1)\n",
        "  pynndescent_time_yaxis.append(sum)\n",
        "\n",
        "print(pynndescent_time_yaxis)\n",
        "print(query_xaxis)\n",
        "\n",
        "import matplotlib.pyplot as plt\n",
        "plt.plot(query_xaxis, pynndescent_time_yaxis)"
      ],
      "execution_count": 0,
      "outputs": [
        {
          "output_type": "stream",
          "text": [
            "(1, 512)\n",
            "(25, 512)\n",
            "(50, 512)\n",
            "(75, 512)\n",
            "(100, 512)\n",
            "[0.00022649765014648438, 0.0015175342559814453, 0.0017123222351074219, 0.002295255661010742, 0.002724885940551758]\n",
            "[1, 25, 50, 75, 100]\n"
          ],
          "name": "stdout"
        },
        {
          "output_type": "execute_result",
          "data": {
            "text/plain": [
              "[<matplotlib.lines.Line2D at 0x7f9573fffa20>]"
            ]
          },
          "metadata": {
            "tags": []
          },
          "execution_count": 12
        },
        {
          "output_type": "display_data",
          "data": {
            "image/png": "[encoded data removed]",
            "text/plain": [
              "<Figure size 432x288 with 1 Axes>"
            ]
          },
          "metadata": {
            "tags": [],
            "needs_background": "light"
          }
        }
      ]
    },
    {
      "cell_type": "code",
      "metadata": {
        "colab_type": "code",
        "id": "aAsJuX9tyAth",
        "outputId": "4469f30d-7f8e-4bd3-d2a1-acdc08b48746",
        "colab": {
          "base_uri": "https://localhost:8080/",
          "height": 315
        }
      },
      "source": [
        "#!pip install faiss\n",
        "#Batch Processing present\n",
        "\n",
        "import faiss\n",
        "\n",
        "nlist = 5  # number of clusters\n",
        "quantiser = faiss.IndexFlatL2(NUMBER_OF_FEATURES)  \n",
        "index = faiss.IndexIVFFlat(quantiser, NUMBER_OF_FEATURES, nlist, faiss.METRIC_L2)\n",
        "\n",
        "index.train(fnp_float32)  # train on the database vectors\n",
        "index.add(fnp_float32)   # add the vectors and update the index\n",
        "\n",
        "faiss_time_yaxis = []\n",
        "\n",
        "for query_count in  query_xaxis:\n",
        "  sum=0\n",
        "  fnp_batch = fnp_float32[0:query_count]\n",
        "  t1 = time.time()\n",
        "  distances, indices = index.search(fnp_batch, NUMBER_OF_NEIGHBOURS)\n",
        "  t2 = time.time()\n",
        "  sum = sum + (t2-t1)\n",
        "  faiss_time_yaxis.append(sum)\n",
        "\n",
        "print(faiss_time_yaxis)\n",
        "print(query_xaxis)\n",
        "\n",
        "import matplotlib.pyplot as plt\n",
        "plt.plot(query_xaxis, faiss_time_yaxis)"
      ],
      "execution_count": 0,
      "outputs": [
        {
          "output_type": "stream",
          "text": [
            "[0.0041904449462890625, 0.00557708740234375, 0.006833553314208984, 0.00908041000366211, 0.010859489440917969]\n",
            "[1, 25, 50, 75, 100]\n"
          ],
          "name": "stdout"
        },
        {
          "output_type": "execute_result",
          "data": {
            "text/plain": [
              "[<matplotlib.lines.Line2D at 0x7f957525cc18>]"
            ]
          },
          "metadata": {
            "tags": []
          },
          "execution_count": 13
        },
        {
          "output_type": "display_data",
          "data": {
            "image/png": "[encoded data removed]",
            "text/plain": [
              "<Figure size 432x288 with 1 Axes>"
            ]
          },
          "metadata": {
            "tags": [],
            "needs_background": "light"
          }
        }
      ]
    },
    {
      "cell_type": "code",
      "metadata": {
        "id": "_u164KdiCYEn",
        "colab_type": "code",
        "outputId": "14907410-25c8-4a63-b071-8e6693c039de",
        "colab": {
          "base_uri": "https://localhost:8080/",
          "height": 315
        }
      },
      "source": [
        "#!pip install rpforest\n",
        "#No batch processing present\n",
        "\n",
        "from rpforest import RPForest\n",
        "\n",
        "model = RPForest(leaf_size=50, no_trees=10)\n",
        "model.fit(fnp)\n",
        "\n",
        "rpforest_time_yaxis = []\n",
        "\n",
        "for query_count in  query_xaxis:\n",
        "  sum=0\n",
        "  fnp_batch = fnp[0:query_count]\n",
        "  for fb in fnp_batch:\n",
        "    t1 = time.time()\n",
        "    nns = model.query(fb, NUMBER_OF_NEIGHBOURS)\n",
        "    t2 = time.time()\n",
        "    sum = sum + (t2-t1)\n",
        "  rpforest_time_yaxis.append(sum)\n",
        "\n",
        "print(rpforest_time_yaxis)\n",
        "print(query_xaxis)\n",
        "\n",
        "import matplotlib.pyplot as plt\n",
        "plt.plot(query_xaxis, rpforest_time_yaxis)"
      ],
      "execution_count": 0,
      "outputs": [
        {
          "output_type": "stream",
          "text": [
            "[0.0005431175231933594, 0.008994817733764648, 0.017605066299438477, 0.025850296020507812, 0.0351719856262207]\n",
            "[1, 25, 50, 75, 100]\n"
          ],
          "name": "stdout"
        },
        {
          "output_type": "execute_result",
          "data": {
            "text/plain": [
              "[<matplotlib.lines.Line2D at 0x7f95753aee48>]"
            ]
          },
          "metadata": {
            "tags": []
          },
          "execution_count": 14
        },
        {
          "output_type": "display_data",
          "data": {
            "image/png": "[encoded data removed]",
            "text/plain": [
              "<Figure size 432x288 with 1 Axes>"
            ]
          },
          "metadata": {
            "tags": [],
            "needs_background": "light"
          }
        }
      ]
    },
    {
      "cell_type": "code",
      "metadata": {
        "id": "4Nd6UVU9DHW0",
        "colab_type": "code",
        "outputId": "09f48d42-887e-4a6d-9384-435ff6227a38",
        "colab": {
          "base_uri": "https://localhost:8080/",
          "height": 319
        }
      },
      "source": [
        "import hnswlib\n",
        "\n",
        "#Batch processing present\n",
        "\n",
        "# Declaring index\n",
        "# possible options are l2, cosine or ip\n",
        "p = hnswlib.Index(space = 'l2', dim = NUMBER_OF_FEATURES)\n",
        "\n",
        "# Initing index - the maximum number of elements should be known beforehand\n",
        "p.init_index(max_elements = NUMBER_OF_SAMPLES)\n",
        "\n",
        "# Element insertion (can be called several times):\n",
        "p.add_items(fnp)\n",
        "\n",
        "hsnwlib_time_yaxis = []\n",
        "\n",
        "for query_count in  query_xaxis:\n",
        "  sum=0\n",
        "  fnp_batch = fnp[0:query_count]\n",
        "  t1 = time.time()\n",
        "  labels, distances = p.knn_query(fnp_batch, k = NUMBER_OF_NEIGHBOURS)\n",
        "  t2 = time.time()\n",
        "  sum = sum + (t2-t1)\n",
        "  hsnwlib_time_yaxis.append(sum)\n",
        "\n",
        "print(hsnwlib_time_yaxis)\n",
        "print(query_xaxis)\n",
        "\n",
        "import matplotlib.pyplot as plt\n",
        "plt.plot(query_xaxis, hsnwlib_time_yaxis)"
      ],
      "execution_count": 0,
      "outputs": [
        {
          "output_type": "stream",
          "text": [
            "[8.487701416015625e-05, 0.001028299331665039, 0.001856088638305664, 0.0026710033416748047, 0.003340005874633789]\n",
            "[1, 25, 50, 75, 100]\n"
          ],
          "name": "stdout"
        },
        {
          "output_type": "execute_result",
          "data": {
            "text/plain": [
              "[<matplotlib.lines.Line2D at 0x7f9573fdf160>]"
            ]
          },
          "metadata": {
            "tags": []
          },
          "execution_count": 15
        },
        {
          "output_type": "display_data",
          "data": {
            "image/png": "[encoded data removed]",
            "text/plain": [
              "<Figure size 432x288 with 1 Axes>"
            ]
          },
          "metadata": {
            "tags": [],
            "needs_background": "light"
          }
        }
      ]
    },
    {
      "cell_type": "code",
      "metadata": {
        "id": "VyxbNXIkE-Ru",
        "colab_type": "code",
        "outputId": "d73f87c1-5e8a-4a11-93cb-a936e5d2873c",
        "colab": {
          "base_uri": "https://localhost:8080/",
          "height": 315
        }
      },
      "source": [
        "# initialize a new index, using a HNSW index on Cosine Similarity\n",
        "\n",
        "import nmslib\n",
        "\n",
        "index = nmslib.init(method='hnsw', space='cosinesimil')\n",
        "index.addDataPointBatch(fnp)\n",
        "index.createIndex(print_progress=True)\n",
        "\n",
        "nmslib_hnsw_time_yaxis = []\n",
        "\n",
        "for query_count in  query_xaxis:\n",
        "  sum=0\n",
        "  fnp_batch = fnp[0:query_count]\n",
        "  for fb in fnp_batch:\n",
        "    t1 = time.time()\n",
        "    ids, distances = index.knnQuery(query, k=NUMBER_OF_NEIGHBOURS)\n",
        "    t2 = time.time()\n",
        "    sum = sum + (t2-t1)\n",
        "  nmslib_hnsw_time_yaxis.append(sum)\n",
        "\n",
        "print(nmslib_hnsw_time_yaxis)\n",
        "print(query_xaxis)\n",
        "\n",
        "import matplotlib.pyplot as plt\n",
        "plt.plot(query_xaxis, nmslib_hnsw_time_yaxis)\n"
      ],
      "execution_count": 0,
      "outputs": [
        {
          "output_type": "stream",
          "text": [
            "[0.0002627372741699219, 0.0024220943450927734, 0.0047032833099365234, 0.007194042205810547, 0.00864553451538086]\n",
            "[1, 25, 50, 75, 100]\n"
          ],
          "name": "stdout"
        },
        {
          "output_type": "execute_result",
          "data": {
            "text/plain": [
              "[<matplotlib.lines.Line2D at 0x7f9573fac4e0>]"
            ]
          },
          "metadata": {
            "tags": []
          },
          "execution_count": 16
        },
        {
          "output_type": "display_data",
          "data": {
            "image/png": "[encoded data removed]",
            "text/plain": [
              "<Figure size 432x288 with 1 Axes>"
            ]
          },
          "metadata": {
            "tags": [],
            "needs_background": "light"
          }
        }
      ]
    },
    {
      "cell_type": "code",
      "metadata": {
        "id": "A2xOz26NF7cx",
        "colab_type": "code",
        "outputId": "732ee7e7-494c-4f75-b021-857230e5d2c1",
        "colab": {
          "base_uri": "https://localhost:8080/",
          "height": 315
        }
      },
      "source": [
        "# initialize a new index, using a SWGRAPH index on Cosine Similarity\n",
        "\n",
        "import nmslib\n",
        "\n",
        "index = nmslib.init(method='sw-graph', space='cosinesimil')\n",
        "index.addDataPointBatch(fnp)\n",
        "index.createIndex(print_progress=True)\n",
        "\n",
        "nmslib_swgraph_time_yaxis = []\n",
        "\n",
        "for query_count in  query_xaxis:\n",
        "  sum=0\n",
        "  fnp_batch = fnp[0:query_count]\n",
        "  for fb in fnp_batch:\n",
        "    t1 = time.time()\n",
        "    ids, distances = index.knnQuery(query, k=NUMBER_OF_NEIGHBOURS)\n",
        "    t2 = time.time()\n",
        "    sum = sum + (t2-t1)\n",
        "  nmslib_swgraph_time_yaxis.append(sum)\n",
        "\n",
        "print(nmslib_swgraph_time_yaxis)\n",
        "print(query_xaxis)\n",
        "\n",
        "import matplotlib.pyplot as plt\n",
        "plt.plot(query_xaxis, nmslib_swgraph_time_yaxis)\n"
      ],
      "execution_count": 0,
      "outputs": [
        {
          "output_type": "stream",
          "text": [
            "[0.00013136863708496094, 0.002857685089111328, 0.0053021907806396484, 0.007272958755493164, 0.009856700897216797]\n",
            "[1, 25, 50, 75, 100]\n"
          ],
          "name": "stdout"
        },
        {
          "output_type": "execute_result",
          "data": {
            "text/plain": [
              "[<matplotlib.lines.Line2D at 0x7f9574017080>]"
            ]
          },
          "metadata": {
            "tags": []
          },
          "execution_count": 17
        },
        {
          "output_type": "display_data",
          "data": {
            "image/png": "[encoded data removed]",
            "text/plain": [
              "<Figure size 432x288 with 1 Axes>"
            ]
          },
          "metadata": {
            "tags": [],
            "needs_background": "light"
          }
        }
      ]
    },
    {
      "cell_type": "code",
      "metadata": {
        "id": "rJ29Ejy5F8mp",
        "colab_type": "code",
        "outputId": "8d92fe0b-f004-4ca6-f321-4020eda68848",
        "colab": {
          "base_uri": "https://localhost:8080/",
          "height": 315
        }
      },
      "source": [
        "# initialize a new index, using a NAPP index on Cosine Similarity\n",
        "\n",
        "import nmslib\n",
        "\n",
        "index = nmslib.init(method='napp', space='cosinesimil')\n",
        "index.addDataPointBatch(fnp)\n",
        "index.createIndex(print_progress=True)\n",
        "\n",
        "nmslib_napp_time_yaxis = []\n",
        "\n",
        "for query_count in  query_xaxis:\n",
        "  sum=0\n",
        "  fnp_batch = fnp[0:query_count]\n",
        "  for fb in fnp_batch:\n",
        "    t1 = time.time()\n",
        "    ids, distances = index.knnQuery(query, k=NUMBER_OF_NEIGHBOURS)\n",
        "    t2 = time.time()\n",
        "    sum = sum + (t2-t1)\n",
        "  nmslib_napp_time_yaxis.append(sum)\n",
        "\n",
        "print(nmslib_napp_time_yaxis)\n",
        "print(query_xaxis)\n",
        "\n",
        "import matplotlib.pyplot as plt\n",
        "plt.plot(query_xaxis, nmslib_napp_time_yaxis)"
      ],
      "execution_count": 0,
      "outputs": [
        {
          "output_type": "stream",
          "text": [
            "[0.001489877700805664, 0.02017664909362793, 0.04000425338745117, 0.0576934814453125, 0.08083653450012207]\n",
            "[1, 25, 50, 75, 100]\n"
          ],
          "name": "stdout"
        },
        {
          "output_type": "execute_result",
          "data": {
            "text/plain": [
              "[<matplotlib.lines.Line2D at 0x7f9576d612e8>]"
            ]
          },
          "metadata": {
            "tags": []
          },
          "execution_count": 18
        },
        {
          "output_type": "display_data",
          "data": {
            "image/png": "[encoded data removed]",
            "text/plain": [
              "<Figure size 432x288 with 1 Axes>"
            ]
          },
          "metadata": {
            "tags": [],
            "needs_background": "light"
          }
        }
      ]
    },
    {
      "cell_type": "code",
      "metadata": {
        "id": "YCsdVEHpGbrl",
        "colab_type": "code",
        "outputId": "a8f8c399-e2c2-4ced-d002-a348f5fb643b",
        "colab": {
          "base_uri": "https://localhost:8080/",
          "height": 315
        }
      },
      "source": [
        "from n2 import HnswIndex\n",
        "\n",
        "index = HnswIndex(NUMBER_OF_FEATURES)\n",
        "for f in fnp:\n",
        "    index.add_data(f)\n",
        "index.build(m=5, n_threads=4)\n",
        "\n",
        "n2_hnsw_time_yaxis = []\n",
        "\n",
        "for query_count in  query_xaxis:\n",
        "  sum=0\n",
        "  fnp_batch = fnp[0:query_count]\n",
        "  for fb in fnp_batch:\n",
        "    t1 = time.time()\n",
        "    result = index.search_by_vector(query, NUMBER_OF_NEIGHBOURS)\n",
        "    t2 = time.time()\n",
        "    sum = sum + (t2-t1)\n",
        "  n2_hnsw_time_yaxis.append(sum)\n",
        "\n",
        "print(n2_hnsw_time_yaxis)\n",
        "print(query_xaxis)\n",
        "\n",
        "import matplotlib.pyplot as plt\n",
        "plt.plot(query_xaxis, n2_hnsw_time_yaxis)"
      ],
      "execution_count": 0,
      "outputs": [
        {
          "output_type": "stream",
          "text": [
            "[0.0002167224884033203, 0.003682851791381836, 0.0073888301849365234, 0.011385917663574219, 0.014229297637939453]\n",
            "[1, 25, 50, 75, 100]\n"
          ],
          "name": "stdout"
        },
        {
          "output_type": "execute_result",
          "data": {
            "text/plain": [
              "[<matplotlib.lines.Line2D at 0x7f9573a0bba8>]"
            ]
          },
          "metadata": {
            "tags": []
          },
          "execution_count": 19
        },
        {
          "output_type": "display_data",
          "data": {
            "image/png": "[encoded data removed]",
            "text/plain": [
              "<Figure size 432x288 with 1 Axes>"
            ]
          },
          "metadata": {
            "tags": [],
            "needs_background": "light"
          }
        }
      ]
    },
    {
      "cell_type": "code",
      "metadata": {
        "id": "ihcj196wH4oF",
        "colab_type": "code",
        "outputId": "9b355adb-2c58-4610-a690-9c8bb9adb88c",
        "colab": {
          "base_uri": "https://localhost:8080/",
          "height": 483
        }
      },
      "source": [
        "from panns import PannsIndex\n",
        "\n",
        "#No Batch Processing\n",
        "\n",
        "# create an index of Euclidean distance\n",
        "p = PannsIndex(dimension=NUMBER_OF_FEATURES, metric='euclidean')\n",
        "\n",
        "# generate a 1000 x 100 dataset\n",
        "for f in fnp:\n",
        "    p.add_vector(f)\n",
        "\n",
        "# build an index of n trees and save to a file\n",
        "n = 10\n",
        "p.build(n)\n",
        "\n",
        "panns_time_yaxis = []\n",
        "\n",
        "for query_count in  query_xaxis:\n",
        "  sum=0\n",
        "  fnp_batch = fnp[0:query_count]\n",
        "  for fb in fnp_batch:\n",
        "    t1 = time.time()\n",
        "    nearest_neighbor = p.query(fb, 10)\n",
        "    t2 = time.time()\n",
        "    sum = sum + (t2-t1)\n",
        "  panns_time_yaxis.append(sum)\n",
        "\n",
        "print(panns_time_yaxis)\n",
        "print(query_xaxis)\n",
        "\n",
        "import matplotlib.pyplot as plt\n",
        "plt.plot(query_xaxis, panns_time_yaxis)"
      ],
      "execution_count": 0,
      "outputs": [
        {
          "output_type": "stream",
          "text": [
            "2020-04-21 06:20:00,906 : INFO : #119 => pass 0 ...\n",
            "2020-04-21 06:20:01,120 : INFO : #119 => pass 1 ...\n",
            "2020-04-21 06:20:01,326 : INFO : #119 => pass 2 ...\n",
            "2020-04-21 06:20:01,552 : INFO : #119 => pass 3 ...\n",
            "2020-04-21 06:20:01,759 : INFO : #119 => pass 4 ...\n",
            "2020-04-21 06:20:01,975 : INFO : #119 => pass 5 ...\n",
            "2020-04-21 06:20:02,186 : INFO : #119 => pass 6 ...\n",
            "2020-04-21 06:20:02,396 : INFO : #119 => pass 7 ...\n",
            "2020-04-21 06:20:02,621 : INFO : #119 => pass 8 ...\n",
            "2020-04-21 06:20:02,839 : INFO : #119 => pass 9 ...\n"
          ],
          "name": "stderr"
        },
        {
          "output_type": "stream",
          "text": [
            "[0.007209062576293945, 0.20321011543273926, 0.38848233222961426, 0.6042313575744629, 0.7338919639587402]\n",
            "[1, 25, 50, 75, 100]\n"
          ],
          "name": "stdout"
        },
        {
          "output_type": "execute_result",
          "data": {
            "text/plain": [
              "[<matplotlib.lines.Line2D at 0x7f9564adbf28>]"
            ]
          },
          "metadata": {
            "tags": []
          },
          "execution_count": 20
        },
        {
          "output_type": "display_data",
          "data": {
            "image/png": "[encoded data removed]",
            "text/plain": [
              "<Figure size 432x288 with 1 Axes>"
            ]
          },
          "metadata": {
            "tags": [],
            "needs_background": "light"
          }
        }
      ]
    },
    {
      "cell_type": "code",
      "metadata": {
        "id": "lG7nNAbZIQ8q",
        "colab_type": "code",
        "outputId": "cb523d3a-0cce-4a45-c87d-49e5513a7bea",
        "colab": {
          "base_uri": "https://localhost:8080/",
          "height": 319
        }
      },
      "source": [
        "import pykgraph\n",
        "\n",
        "#Batch processing present\n",
        "\n",
        "index = pykgraph.KGraph(fnp, 'angular')  # another option is 'angular'\n",
        "index.build(reverse=-1)\n",
        "\n",
        "pykgraph_time_yaxis = []\n",
        "\n",
        "for query_count in  query_xaxis:\n",
        "  sum=0\n",
        "  fnp_batch = fnp[0:query_count]\n",
        "  t1 = time.time()\n",
        "  knn = index.search(fnp_batch, K=NUMBER_OF_NEIGHBOURS) \n",
        "  t2 = time.time()\n",
        "  sum = sum + (t2-t1)\n",
        "  pykgraph_time_yaxis.append(sum)\n",
        "\n",
        "print(pykgraph_time_yaxis)\n",
        "print(query_xaxis)\n",
        "\n",
        "import matplotlib.pyplot as plt\n",
        "plt.plot(query_xaxis, pykgraph_time_yaxis)"
      ],
      "execution_count": 0,
      "outputs": [
        {
          "output_type": "stream",
          "text": [
            "[0.01015329360961914, 0.025918006896972656, 0.049912214279174805, 0.07744622230529785, 0.09596633911132812]\n",
            "[1, 25, 50, 75, 100]\n"
          ],
          "name": "stdout"
        },
        {
          "output_type": "execute_result",
          "data": {
            "text/plain": [
              "[<matplotlib.lines.Line2D at 0x7f9564acc198>]"
            ]
          },
          "metadata": {
            "tags": []
          },
          "execution_count": 21
        },
        {
          "output_type": "display_data",
          "data": {
            "image/png": "[encoded data removed]",
            "text/plain": [
              "<Figure size 432x288 with 1 Axes>"
            ]
          },
          "metadata": {
            "tags": [],
            "needs_background": "light"
          }
        }
      ]
    },
    {
      "cell_type": "code",
      "metadata": {
        "id": "wyimgVIBI3Sc",
        "colab_type": "code",
        "outputId": "9458cc00-1aec-4cba-8bfb-d24484d6c402",
        "colab": {
          "base_uri": "https://localhost:8080/",
          "height": 332
        }
      },
      "source": [
        "#!git clone https://github.com/ipsarros/DolphinnPy\n",
        "#!2to3 -w DolphinnPy\n",
        "%cd /content/DolphinnPy\n",
        "\n",
        "#edited the main.py file of DolphinnPy\n",
        "\n",
        "#Batch processing is allowed\n",
        "\n",
        "import utils as fr\n",
        "import bruteforce as bf\n",
        "from dolphinn import *\n",
        "\n",
        "num_of_probes=20\n",
        "\n",
        "#CHANGE OF ORIGIN\n",
        "#find the mean of randomly sampled points\n",
        "m=fr.findmean(fnp,NUMBER_OF_FEATURES,10)\n",
        "\n",
        "#then consider this mean as the origin\n",
        "P=fr.isotropize(fnp,NUMBER_OF_FEATURES,m)\n",
        "K=int(np.log2(len(P)))-2 #New Dimension\n",
        "\n",
        "#PREPROCESSING\n",
        "dol=Dolphinn(P, NUMBER_OF_FEATURES, K)\n",
        "\n",
        "#QUERIES \n",
        "#assign keys to queries\n",
        "dolphinn_time_yaxis = []\n",
        "\n",
        "for query_count in  query_xaxis:\n",
        "  sum=0\n",
        "  fnp_batch = fnp[0:query_count]\n",
        "  t1 = time.time()\n",
        "  Q=fr.isotropize(fnp_batch,NUMBER_OF_FEATURES,m)\n",
        "  solQ=dol.queries(Q, 1, num_of_probes)\n",
        "  t2 = time.time()\n",
        "  sum = sum + (t2-t1)\n",
        "  dolphinn_time_yaxis.append(sum)\n",
        "\n",
        "print(dolphinn_time_yaxis)\n",
        "print(query_xaxis)\n",
        "\n",
        "import matplotlib.pyplot as plt\n",
        "plt.plot(query_xaxis, dolphinn_time_yaxis)\n",
        "\n",
        "%cd ../"
      ],
      "execution_count": 0,
      "outputs": [
        {
          "output_type": "stream",
          "text": [
            "/content/DolphinnPy\n",
            "[0.003528118133544922, 0.05187201499938965, 0.07914328575134277, 0.13640379905700684, 0.16381430625915527]\n",
            "[1, 25, 50, 75, 100]\n",
            "/content\n"
          ],
          "name": "stdout"
        },
        {
          "output_type": "display_data",
          "data": {
            "image/png": "[encoded data removed]",
            "text/plain": [
              "<Figure size 432x288 with 1 Axes>"
            ]
          },
          "metadata": {
            "tags": [],
            "needs_background": "light"
          }
        }
      ]
    },
    {
      "cell_type": "code",
      "metadata": {
        "id": "95ghlKYDoegv",
        "colab_type": "code",
        "outputId": "9e182934-b4d6-4c63-a7c5-db1ecfa02d0b",
        "colab": {
          "base_uri": "https://localhost:8080/",
          "height": 315
        }
      },
      "source": [
        "#!pip install FALCONN\n",
        "#no batch processing\n",
        "\n",
        "import falconn\n",
        "\n",
        "params_cp = falconn.LSHConstructionParameters()\n",
        "params_cp.dimension = NUMBER_OF_FEATURES\n",
        "params_cp.lsh_family = falconn.LSHFamily.CrossPolytope\n",
        "params_cp.distance_function = falconn.DistanceFunction.EuclideanSquared\n",
        "params_cp.l = 50 #Number of Tables\n",
        "params_cp.num_rotations = 1\n",
        "params_cp.seed = 5721840\n",
        "\n",
        "# we want to use all the available threads to set up\n",
        "params_cp.num_setup_threads = 0\n",
        "params_cp.storage_hash_table = falconn.StorageHashTable.BitPackedFlatHashTable\n",
        "# we build 18-bit hashes so that each table has\n",
        "# 2^18 bins; this is a good choise since 2^18 is of the same\n",
        "# order of magnitude as the number of data points\n",
        "falconn.compute_number_of_hash_functions(18, params_cp)\n",
        "\n",
        "table = falconn.LSHIndex(params_cp)\n",
        "table.setup(fnp_float32)\n",
        "\n",
        "query_object = table.construct_query_object()\n",
        "query_object.set_num_probes(50)\n",
        "\n",
        "falconn_time_yaxis = []\n",
        "\n",
        "for query_count in  query_xaxis:\n",
        "  sum=0\n",
        "  fnp_batch = fnp_float32[0:query_count]\n",
        "  for fb in fnp_batch:\n",
        "    t1 = time.time()\n",
        "    result = query_object.find_nearest_neighbor(fb)\n",
        "    t2 = time.time()\n",
        "    sum = sum + (t2-t1)\n",
        "  falconn_time_yaxis.append(sum)\n",
        "\n",
        "print(falconn_time_yaxis)\n",
        "print(query_xaxis)\n",
        "\n",
        "import matplotlib.pyplot as plt\n",
        "plt.plot(query_xaxis, falconn_time_yaxis)"
      ],
      "execution_count": 0,
      "outputs": [
        {
          "output_type": "stream",
          "text": [
            "[0.00027489662170410156, 0.0034646987915039062, 0.006788969039916992, 0.010148048400878906, 0.012972593307495117]\n",
            "[1, 25, 50, 75, 100]\n"
          ],
          "name": "stdout"
        },
        {
          "output_type": "execute_result",
          "data": {
            "text/plain": [
              "[<matplotlib.lines.Line2D at 0x7f9576bb9ac8>]"
            ]
          },
          "metadata": {
            "tags": []
          },
          "execution_count": 23
        },
        {
          "output_type": "display_data",
          "data": {
            "image/png": "[encoded data removed]",
            "text/plain": [
              "<Figure size 432x288 with 1 Axes>"
            ]
          },
          "metadata": {
            "tags": [],
            "needs_background": "light"
          }
        }
      ]
    },
    {
      "cell_type": "code",
      "metadata": {
        "id": "FsdZQcjNKEip",
        "colab_type": "code",
        "outputId": "c9f9a2cc-1f14-437e-b2a1-72546204c1c4",
        "colab": {
          "base_uri": "https://localhost:8080/",
          "height": 618
        }
      },
      "source": [
        "import nanopq\n",
        "# Instantiate with M=8 sub-spaces\n",
        "pq = nanopq.PQ(M=8)\n",
        "\n",
        "# Train codewords\n",
        "pq.fit(fnp_float32)\n",
        "\n",
        "# Encode to PQ-codes\n",
        "X_code = pq.encode(fnp_float32)  # (10000, 8) with dtype=np.uint8\n",
        "\n",
        "nanopq_time_yaxis = []\n",
        "\n",
        "for query_count in  query_xaxis:\n",
        "  sum=0\n",
        "  fnp_batch = fnp_float32[0:query_count]\n",
        "  for fb in fnp_batch:\n",
        "    t1 = time.time()\n",
        "    dists = pq.dtable(query_float32).adist(X_code)\n",
        "    min_n = np.argmin(dists)\n",
        "    t2 = time.time()\n",
        "    sum = sum + (t2-t1)\n",
        "  nanopq_time_yaxis.append(sum)\n",
        "\n",
        "print(nanopq_time_yaxis)\n",
        "print(query_xaxis)\n",
        "\n",
        "import matplotlib.pyplot as plt\n",
        "plt.plot(query_xaxis, nanopq_time_yaxis)"
      ],
      "execution_count": 0,
      "outputs": [
        {
          "output_type": "stream",
          "text": [
            "M: 8, Ks: 256, code_dtype: <class 'numpy.uint8'>\n",
            "iter: 20, seed: 123\n",
            "Training the subspace: 0 / 8\n",
            "Training the subspace: 1 / 8\n",
            "Training the subspace: 2 / 8\n",
            "Training the subspace: 3 / 8\n",
            "Training the subspace: 4 / 8\n",
            "Training the subspace: 5 / 8\n",
            "Training the subspace: 6 / 8\n",
            "Training the subspace: 7 / 8\n",
            "Encoding the subspace: 0 / 8\n",
            "Encoding the subspace: 1 / 8\n",
            "Encoding the subspace: 2 / 8\n",
            "Encoding the subspace: 3 / 8\n",
            "Encoding the subspace: 4 / 8\n",
            "Encoding the subspace: 5 / 8\n",
            "Encoding the subspace: 6 / 8\n",
            "Encoding the subspace: 7 / 8\n",
            "[0.0014300346374511719, 0.03247642517089844, 0.06556534767150879, 0.07410550117492676, 0.09453034400939941]\n",
            "[1, 25, 50, 75, 100]\n"
          ],
          "name": "stdout"
        },
        {
          "output_type": "execute_result",
          "data": {
            "text/plain": [
              "[<matplotlib.lines.Line2D at 0x7f95769da8d0>]"
            ]
          },
          "metadata": {
            "tags": []
          },
          "execution_count": 24
        },
        {
          "output_type": "display_data",
          "data": {
            "image/png": "[encoded data removed]",
            "text/plain": [
              "<Figure size 432x288 with 1 Axes>"
            ]
          },
          "metadata": {
            "tags": [],
            "needs_background": "light"
          }
        }
      ]
    },
    {
      "cell_type": "markdown",
      "metadata": {
        "id": "3ln77recK0r8",
        "colab_type": "text"
      },
      "source": [
        "# Final Plotting"
      ]
    },
    {
      "cell_type": "code",
      "metadata": {
        "id": "5BRdPP-EMsBA",
        "colab_type": "code",
        "outputId": "0f5f8e95-0ff6-4242-8b5f-07c3d42fa4b5",
        "colab": {
          "base_uri": "https://localhost:8080/",
          "height": 376
        }
      },
      "source": [
        "import matplotlib.pyplot as plt\n",
        "\n",
        "plt.plot(query_xaxis, annoy_time_yaxis, label = \"Annoy\")\n",
        "plt.plot(query_xaxis, sklearn1_time_yaxis, label = \"Sklearn_balltree\")\n",
        "plt.plot(query_xaxis, sklearn2_time_yaxis, label = \"Sklearn_kdtree\")\n",
        "plt.plot(query_xaxis, sklearn3_time_yaxis, label = \"Sklearn_brute\")\n",
        "plt.plot(query_xaxis, nearpy_time_yaxis, label = \"Nearpy\")\n",
        "plt.plot(query_xaxis, ngt_time_yaxis, label = \"Ngt\")\n",
        "plt.plot(query_xaxis, mrpt_time_yaxis, label = \"Mrpt\")\n",
        "plt.plot(query_xaxis, pynndescent_time_yaxis, label = \"Pynndescent\")\n",
        "plt.plot(query_xaxis, faiss_time_yaxis, label = \"Faiss\")\n",
        "plt.plot(query_xaxis, rpforest_time_yaxis, label = \"RPForest\")\n",
        "plt.plot(query_xaxis, hsnwlib_time_yaxis, label = \"HNSWlib\")\n",
        "plt.plot(query_xaxis, nmslib_hnsw_time_yaxis, label = \"NMSlib_hnsw\")\n",
        "plt.plot(query_xaxis, nmslib_swgraph_time_yaxis, label = \"NMSlib_swgraph\")\n",
        "plt.plot(query_xaxis, nmslib_napp_time_yaxis, label = \"NMSlib_napp\")\n",
        "plt.plot(query_xaxis, n2_hnsw_time_yaxis, label = \"N2_hnsw\")\n",
        "plt.plot(query_xaxis, panns_time_yaxis, label = \"PANNS\")\n",
        "plt.plot(query_xaxis, pykgraph_time_yaxis, label = \"PYKGraph\")\n",
        "plt.plot(query_xaxis, dolphinn_time_yaxis, label = \"Dolphinn\")\n",
        "plt.plot(query_xaxis, falconn_time_yaxis, label = \"Falconn\")\n",
        "plt.plot(query_xaxis, nanopq_time_yaxis, label = \"Nanopq\")\n",
        "\n",
        "plt.xlabel('Number of Queries')\n",
        "plt.ylabel('Time (in micro seconds)')\n",
        "plt.title('Number of Queries vs Time')\n",
        "\n",
        "plt.legend()\n",
        "plt.show()"
      ],
      "execution_count": 0,
      "outputs": [
        {
          "output_type": "display_data",
          "data": {
            "image/png": "[encoded data removed]",
            "text/plain": [
              "<Figure size 432x288 with 1 Axes>"
            ]
          },
          "metadata": {
            "tags": [],
            "needs_background": "light"
          }
        }
      ]
    },
    {
      "cell_type": "markdown",
      "metadata": {
        "id": "W8RGBeIIz_hY",
        "colab_type": "text"
      },
      "source": [
        "# TSNE and PCA Analysis\n"
      ]
    },
    {
      "cell_type": "code",
      "metadata": {
        "id": "NGsrTejTOuzp",
        "colab_type": "code",
        "outputId": "38a50d12-7ec2-4ad4-f8d6-893c6db63899",
        "colab": {
          "base_uri": "https://localhost:8080/",
          "height": 265
        }
      },
      "source": [
        "from sklearn.manifold import TSNE\n",
        "tsne = TSNE().fit_transform(fnp)\n",
        "\n",
        "import matplotlib.pyplot as plt\n",
        "plt.scatter(tsne[:,0],tsne[:,1],s=1)\n",
        "plt.show()"
      ],
      "execution_count": 0,
      "outputs": [
        {
          "output_type": "display_data",
          "data": {
            "image/png": "[encoded data removed]",
            "text/plain": [
              "<Figure size 432x288 with 1 Axes>"
            ]
          },
          "metadata": {
            "tags": [],
            "needs_background": "light"
          }
        }
      ]
    },
    {
      "cell_type": "code",
      "metadata": {
        "id": "CUzm2lKBP6Xv",
        "colab_type": "code",
        "outputId": "25ac9a94-7a37-4754-bf12-cf80dc601945",
        "colab": {
          "base_uri": "https://localhost:8080/",
          "height": 265
        }
      },
      "source": [
        "db2 = pd.read_pickle('/content/drive/My Drive/database2.csv') #DRGAN Features\n",
        "feature = db2['feature']\n",
        "\n",
        "fnp2 = np.ndarray(shape=(5000,320))\n",
        "for f in range(5000):\n",
        "  for e in range(320):\n",
        "    fnp2[f][e] = feature[f][0][e]\n",
        "\n",
        "from sklearn.manifold import TSNE\n",
        "tsne = TSNE().fit_transform(fnp2)\n",
        "\n",
        "import matplotlib.pyplot as plt\n",
        "plt.scatter(tsne[:,0],tsne[:,1],s=1)\n",
        "plt.show()"
      ],
      "execution_count": 0,
      "outputs": [
        {
          "output_type": "display_data",
          "data": {
            "image/png": "[encoded data removed]",
            "text/plain": [
              "<Figure size 432x288 with 1 Axes>"
            ]
          },
          "metadata": {
            "tags": [],
            "needs_background": "light"
          }
        }
      ]
    },
    {
      "cell_type": "markdown",
      "metadata": {
        "id": "siVsIA1WODUC",
        "colab_type": "text"
      },
      "source": [
        "# Previously Saved Result"
      ]
    },
    {
      "cell_type": "code",
      "metadata": {
        "id": "iVuexWfceRPq",
        "colab_type": "code",
        "colab": {}
      },
      "source": [
        "#Previously Saved Result\n",
        "\n",
        "annoy_time_yaxis =  [7.200241088867188e-05, 0.0014157295227050781, 0.002628803253173828, 0.00394892692565918, 0.005234718322753906]\n",
        "sklearn1_time_yaxis =  [0.00570988655090332, 0.1140604019165039, 0.22916579246520996, 0.35016465187072754, 0.45368432998657227]\n",
        "sklearn2_time_yaxis =  [0.0076084136962890625, 0.15352606773376465, 0.3150651454925537, 0.46872830390930176, 0.618624210357666]\n",
        "sklearn3_time_yaxis =  [0.01591348648071289, 0.017751455307006836, 0.02491903305053711, 0.03166651725769043, 0.03545212745666504]\n",
        "nearpy_time_yaxis =  [0.0038115978240966797, 0.08164596557617188, 0.16394424438476562, 0.2703115940093994, 0.3486216068267822]\n",
        "\n",
        "ngt_time_yaxis =  [0.0003712177276611328, 0.005829811096191406, 0.011814594268798828, 0.017403841018676758, 0.02355360984802246]\n",
        "mrpt_time_yaxis =  [9.417533874511719e-05, 0.0016226768493652344, 0.0028290748596191406, 0.004538536071777344, 0.005991697311401367]\n",
        "pynndescent_time_yaxis =  [0.0001838207244873047, 0.0009887218475341797, 0.0016102790832519531, 0.002213001251220703, 0.002943754196166992]\n",
        "faiss_time_yaxis =  [0.00042319297790527344, 0.003759145736694336, 0.006796360015869141, 0.009948015213012695, 0.013050556182861328]\n",
        "rpforest_time_yaxis =  [0.0006859302520751953, 0.011718511581420898, 0.021971464157104492, 0.03529047966003418, 0.04477977752685547]\n",
        "\n",
        "hsnwlib_time_yaxis =  [9.72747802734375e-05, 0.0009877681732177734, 0.0017266273498535156, 0.002385854721069336, 0.0031015872955322266]\n",
        "nmslib_hnsw_time_yaxis =  [0.000331878662109375, 0.002299785614013672, 0.004441976547241211, 0.006727933883666992, 0.008966445922851562]\n",
        "nmslib_swgraph_time_yaxis =  [0.00014472007751464844, 0.0017807483673095703, 0.0034334659576416016, 0.005410194396972656, 0.006989240646362305]\n",
        "nmslib_napp_time_yaxis =  [0.0019905567169189453, 0.025197982788085938, 0.04765486717224121, 0.07437944412231445, 0.09070467948913574]\n",
        "n2_hnsw_time_yaxis =  [0.0003135204315185547, 0.004530668258666992, 0.008987665176391602, 0.01341867446899414, 0.018141508102416992]\n",
        "\n",
        "panns_time_yaxis =  [0.006460666656494141, 0.16358494758605957, 0.32099151611328125, 0.4873085021972656, 0.6568706035614014]\n",
        "pykgraph_time_yaxis =  [0.001657247543334961, 0.02383732795715332, 0.05013895034790039, 0.07555699348449707, 0.09687280654907227]\n",
        "dolphinn_time_yaxis =  [0.0021049976348876953, 0.06052374839782715, 0.0807032585144043, 0.12660455703735352, 0.15701031684875488]\n",
        "falconn_time_yaxis =  [0.0003247261047363281, 0.003453493118286133, 0.0067408084869384766, 0.009952306747436523, 0.013048648834228516]\n",
        "nanopq_time_yaxis =  [0.0013968944549560547, 0.02884674072265625, 0.0565030574798584, 0.06500029563903809, 0.0697181224822998]"
      ],
      "execution_count": 0,
      "outputs": []
    },
    {
      "cell_type": "code",
      "metadata": {
        "id": "k2h-x7ewu0Zv",
        "colab_type": "code",
        "colab": {}
      },
      "source": [
        "time_result = np.array([\n",
        "  [7.200241088867188e-05, 0.0014157295227050781, 0.002628803253173828, 0.00394892692565918, 0.005234718322753906],\n",
        "  [0.00570988655090332, 0.1140604019165039, 0.22916579246520996, 0.35016465187072754, 0.45368432998657227],\n",
        "  [0.0076084136962890625, 0.15352606773376465, 0.3150651454925537, 0.46872830390930176, 0.618624210357666],\n",
        "  [0.01591348648071289, 0.017751455307006836, 0.02491903305053711, 0.03166651725769043, 0.03545212745666504],\n",
        "  [0.0038115978240966797, 0.08164596557617188, 0.16394424438476562, 0.2703115940093994, 0.3486216068267822],\n",
        "  [0.0003712177276611328, 0.005829811096191406, 0.011814594268798828, 0.017403841018676758, 0.02355360984802246],\n",
        "  [9.417533874511719e-05, 0.0016226768493652344, 0.0028290748596191406, 0.004538536071777344, 0.005991697311401367],\n",
        "  [0.0001838207244873047, 0.0009887218475341797, 0.0016102790832519531, 0.002213001251220703, 0.002943754196166992],\n",
        "  [0.00042319297790527344, 0.003759145736694336, 0.006796360015869141, 0.009948015213012695, 0.013050556182861328],\n",
        "  [0.0006859302520751953, 0.011718511581420898, 0.021971464157104492, 0.03529047966003418, 0.04477977752685547],\n",
        "  [9.72747802734375e-05, 0.0009877681732177734, 0.0017266273498535156, 0.002385854721069336, 0.0031015872955322266],\n",
        "  [0.000331878662109375, 0.002299785614013672, 0.004441976547241211, 0.006727933883666992, 0.008966445922851562],\n",
        "  [0.00014472007751464844, 0.0017807483673095703, 0.0034334659576416016, 0.005410194396972656, 0.006989240646362305],\n",
        "  [0.0019905567169189453, 0.025197982788085938, 0.04765486717224121, 0.07437944412231445, 0.09070467948913574],\n",
        "  [0.0003135204315185547, 0.004530668258666992, 0.008987665176391602, 0.01341867446899414, 0.018141508102416992],\n",
        "  [0.006460666656494141, 0.16358494758605957, 0.32099151611328125, 0.4873085021972656, 0.6568706035614014],\n",
        "  [0.001657247543334961, 0.02383732795715332, 0.05013895034790039, 0.07555699348449707, 0.09687280654907227],\n",
        "  [0.0021049976348876953, 0.06052374839782715, 0.0807032585144043, 0.12660455703735352, 0.15701031684875488],\n",
        "  [0.0003247261047363281, 0.003453493118286133, 0.0067408084869384766, 0.009952306747436523, 0.013048648834228516],\n",
        "  [0.0013968944549560547, 0.02884674072265625, 0.0565030574798584, 0.06500029563903809, 0.0697181224822998]\n",
        "], np.float32)\n",
        "time_result = time_result * 1000\n",
        "time_result = time_result.astype(np.int64)"
      ],
      "execution_count": 0,
      "outputs": []
    },
    {
      "cell_type": "code",
      "metadata": {
        "id": "vmrz51zV0EIQ",
        "colab_type": "code",
        "outputId": "b5b12003-ba10-4452-a8c1-3c38c81b7fca",
        "colab": {
          "base_uri": "https://localhost:8080/"
        }
      },
      "source": [
        "import matplotlib.pyplot as plt\n",
        "\n",
        "plt.plot(query_xaxis, time_result[0], label = \"Annoy\")\n",
        "plt.plot(query_xaxis, time_result[1], label = \"Sklearn_balltree\")\n",
        "plt.plot(query_xaxis, time_result[2], label = \"Sklearn_kdtree\")\n",
        "plt.plot(query_xaxis, time_result[3], label = \"Sklearn_brute\")\n",
        "plt.plot(query_xaxis, time_result[4], label = \"Nearpy\")\n",
        "\n",
        "plt.plot(query_xaxis, time_result[5], label = \"Ngt\")\n",
        "plt.plot(query_xaxis, time_result[6], label = \"Mrpt\")\n",
        "plt.plot(query_xaxis, time_result[7], label = \"Pynndescent\")\n",
        "plt.plot(query_xaxis, time_result[8], label = \"Faiss\")\n",
        "plt.plot(query_xaxis, time_result[9], label = \"RPForest\")\n",
        "\n",
        "plt.plot(query_xaxis, time_result[10], label = \"HNSWlib\")\n",
        "plt.plot(query_xaxis, time_result[11], label = \"NMSlib_hnsw\")\n",
        "plt.plot(query_xaxis, time_result[12], label = \"NMSlib_swgraph\")\n",
        "plt.plot(query_xaxis, time_result[13], label = \"NMSlib_napp\")\n",
        "plt.plot(query_xaxis, time_result[14], label = \"N2_hnsw\")\n",
        "\n",
        "plt.plot(query_xaxis, time_result[15], label = \"PANNS\")\n",
        "plt.plot(query_xaxis, time_result[16], label = \"PYKGraph\")\n",
        "plt.plot(query_xaxis, time_result[17], label = \"Dolphinn\")\n",
        "plt.plot(query_xaxis, time_result[18], label = \"Falconn\")\n",
        "plt.plot(query_xaxis, time_result[19], label = \"Nanopq\")\n",
        "\n",
        "plt.xlabel('Number of Queries')\n",
        "plt.ylabel('Time (in milli seconds)')\n",
        "plt.title('Number of Queries vs Time')\n",
        "\n",
        "plt.legend()\n",
        "plt.show()\n",
        "plt.savefig(\"result.png\")"
      ],
      "execution_count": 0,
      "outputs": [
        {
          "output_type": "display_data",
          "data": {
            "image/png": "[encoded data removed]",
            "text/plain": [
              "<Figure size 432x288 with 1 Axes>"
            ]
          },
          "metadata": {
            "tags": [],
            "needs_background": "light"
          }
        },
        {
          "output_type": "display_data",
          "data": {
            "text/plain": [
              "<Figure size 432x288 with 0 Axes>"
            ]
          },
          "metadata": {
            "tags": []
          }
        }
      ]
    },
    {
      "cell_type": "code",
      "metadata": {
        "id": "dfiPr8AHuC5r",
        "colab_type": "code",
        "colab": {}
      },
      "source": [
        "from sklearn.manifold import TSNE\n",
        "tsne = TSNE().fit_transform(fnp)\n",
        "import matplotlib.pyplot as plt\n",
        "plt.scatter(tsne[:,0],tsne[:,1],s=1)\n",
        "plt.savefig(\"facenet_tsne.png\")\n",
        "plt.show()"
      ],
      "execution_count": 0,
      "outputs": []
    },
    {
      "cell_type": "code",
      "metadata": {
        "id": "GBzcF2mfuE5E",
        "colab_type": "code",
        "colab": {}
      },
      "source": [
        "from sklearn.decomposition import PCA\n",
        "pca = PCA(2)\n",
        "pca.fit(fnp)\n",
        "f_pca = pca.transform(fnp)\n",
        "import matplotlib.pyplot as plt\n",
        "plt.scatter(f_pca[:,0],f_pca[:,1],s=5)\n",
        "plt.show()"
      ],
      "execution_count": 0,
      "outputs": []
    },
    {
      "cell_type": "markdown",
      "metadata": {
        "id": "RXhysFlQZW7U",
        "colab_type": "text"
      },
      "source": [
        "# Extra Things"
      ]
    },
    {
      "cell_type": "code",
      "metadata": {
        "id": "kNN5rX_EnmyL",
        "colab_type": "code",
        "colab": {}
      },
      "source": [
        "!git clone https://github.com/puffinn/puffinn\n",
        "\n",
        "%cd puffinn\n",
        "!python3 -c 'import puffinn'\n",
        "%cd ../"
      ],
      "execution_count": 0,
      "outputs": []
    },
    {
      "cell_type": "code",
      "metadata": {
        "id": "2q-MXrLDnyR3",
        "colab_type": "code",
        "colab": {}
      },
      "source": [
        "!git clone https://github.com/puffinn/puffinn\n",
        "\n",
        "%cd puffinn\n",
        "!python3 -c 'import puffinn'\n",
        "\n",
        "import puffinn\n",
        "\n",
        "# Construct the index using the cosine similarity measure,\n",
        "# the default hash functions and 4 GB of memory.\n",
        "index = puffinn.index('angular', NUMBER_OF_FEATURES, 4*1024**3)\n",
        "for f in fnp:\n",
        "    index.insert(f)\n",
        "index.rebuild()\n",
        "\n",
        "# Find the approximate 10 nearest neighbors.\n",
        "# Each of the true 10 nearest neighbors has at least an 80% chance of being found.\n",
        "result = index.search(query, 10, 0.8) \n",
        "\n",
        "print(result)\n",
        "\n",
        "%cd ../"
      ],
      "execution_count": 0,
      "outputs": []
    },
    {
      "cell_type": "code",
      "metadata": {
        "id": "z96gkeFXhP5z",
        "colab_type": "code",
        "colab": {}
      },
      "source": [
        "#Absurd Graph\n",
        "\n",
        "%cd /content\n",
        "!rm -rf pyflann\n",
        "!git clone https://github.com/primetang/pyflann.git\n",
        "!2to3 -w pyflann\n",
        "%cd pyflann\n",
        "!python setup.py install\n",
        "\n",
        "from pyflann import *\n",
        "\n",
        "pyflann_time_yaxis = []\n",
        "\n",
        "for query_count in  query_xaxis:\n",
        "  sum=0\n",
        "  fnp_batch = fnp[0:query_count]\n",
        "  t1 = time.time()\n",
        "  flann = FLANN()\n",
        "  result, dists = flann.nn(fnp, fnp_batch, 10, algorithm=\"kmeans\", branching=32, iterations=7, checks=16)\n",
        "  t2 = time.time()\n",
        "  sum = sum + (t2-t1)\n",
        "  pyflann_time_yaxis.append(sum)\n",
        "\n",
        "print(\"pyflann_time_yaxis = \",pyflann_time_yaxis)\n",
        "print(query_xaxis)\n",
        "\n",
        "import matplotlib.pyplot as plt\n",
        "plt.plot(query_xaxis, pyflann_time_yaxis)\n",
        "\n",
        "%cd ../"
      ],
      "execution_count": 0,
      "outputs": []
    },
    {
      "cell_type": "code",
      "metadata": {
        "id": "SfBIM-_ZrrJu",
        "colab_type": "code",
        "colab": {}
      },
      "source": [
        "!pip install datasketch\n",
        "\n",
        "from datasketch import MinHashLSHForest, MinHash\n",
        "\n",
        "forest = MinHashLSHForest(num_perm=NUMBER_OF_FEATURES)\n",
        "\n",
        "for i,f in enumerate(fnp):\n",
        "  mh = MinHash(num_perm=NUMBER_OF_FEATURES)\n",
        "  mh.update(f)\n",
        "  forest.add(str(i),mh)\n",
        "\n",
        "forest.index()\n",
        "\n",
        "mhq = MinHash(num_perm=NUMBER_OF_FEATURES)\n",
        "mhq.update(query)\n",
        "\n",
        "t1 = time.time()\n",
        "result = forest.query(mhq, k=10)\n",
        "t2 = time.time()\n",
        "print(result)\n",
        "print(\"Time : \",str(t2-t1))\n",
        "\n",
        "'''\n",
        "if your features are all floats,\n",
        "they are considered distinct by minhash\n",
        "even when they are close.\n",
        "e.g. 1.00001 and 1.001 are different in minhash,\n",
        "because they produce different bytes.\n",
        "And two sets {1.0001, 2.0001} and {0.9998, 2.01}\n",
        "are completely different and have a jaccard similarity of 0\n",
        "\n",
        "'''"
      ],
      "execution_count": 0,
      "outputs": []
    }
  ]
}